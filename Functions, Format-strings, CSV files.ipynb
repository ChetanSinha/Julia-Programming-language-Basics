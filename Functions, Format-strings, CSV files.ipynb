{
 "cells": [
  {
   "cell_type": "markdown",
   "metadata": {},
   "source": [
    "# Functions"
   ]
  },
  {
   "cell_type": "code",
   "execution_count": 1,
   "metadata": {},
   "outputs": [
    {
     "data": {
      "text/plain": [
       "f (generic function with 1 method)"
      ]
     },
     "execution_count": 1,
     "metadata": {},
     "output_type": "execute_result"
    }
   ],
   "source": [
    "f(x) = x+x"
   ]
  },
  {
   "cell_type": "code",
   "execution_count": 2,
   "metadata": {},
   "outputs": [
    {
     "data": {
      "text/plain": [
       "4"
      ]
     },
     "execution_count": 2,
     "metadata": {},
     "output_type": "execute_result"
    }
   ],
   "source": [
    "f(2)"
   ]
  },
  {
   "cell_type": "code",
   "execution_count": 3,
   "metadata": {},
   "outputs": [
    {
     "data": {
      "text/plain": [
       "multiply (generic function with 1 method)"
      ]
     },
     "execution_count": 3,
     "metadata": {},
     "output_type": "execute_result"
    }
   ],
   "source": [
    "function multiply(x,y)\n",
    "    return x * y\n",
    "end"
   ]
  },
  {
   "cell_type": "code",
   "execution_count": 4,
   "metadata": {},
   "outputs": [
    {
     "data": {
      "text/plain": [
       "6"
      ]
     },
     "execution_count": 4,
     "metadata": {},
     "output_type": "execute_result"
    }
   ],
   "source": [
    "multiply(2,3)"
   ]
  },
  {
   "cell_type": "code",
   "execution_count": 5,
   "metadata": {},
   "outputs": [
    {
     "data": {
      "text/plain": [
       "meter_to_inch (generic function with 1 method)"
      ]
     },
     "execution_count": 5,
     "metadata": {},
     "output_type": "execute_result"
    }
   ],
   "source": [
    "function meter_to_inch(val)\n",
    "    return val * 39.37\n",
    "end"
   ]
  },
  {
   "cell_type": "code",
   "execution_count": 6,
   "metadata": {},
   "outputs": [
    {
     "data": {
      "text/plain": [
       "59.05499999999999"
      ]
     },
     "execution_count": 6,
     "metadata": {},
     "output_type": "execute_result"
    }
   ],
   "source": [
    "meter_to_inch(1.5)"
   ]
  },
  {
   "cell_type": "code",
   "execution_count": 7,
   "metadata": {},
   "outputs": [
    {
     "name": "stdout",
     "output_type": "stream",
     "text": [
      "Hi...chetan, this is Julia"
     ]
    }
   ],
   "source": [
    "name = \"chetan\"\n",
    "print(\"Hi...\",name,\", this is Julia\")"
   ]
  },
  {
   "cell_type": "markdown",
   "metadata": {},
   "source": [
    "# formatting number and string"
   ]
  },
  {
   "cell_type": "code",
   "execution_count": 12,
   "metadata": {},
   "outputs": [],
   "source": [
    "using Printf\n",
    "# we can use all the macros of printf now"
   ]
  },
  {
   "cell_type": "code",
   "execution_count": 10,
   "metadata": {},
   "outputs": [],
   "source": [
    "name = \"Chetan Sinha\"; #semicolon will not make the name print after executing"
   ]
  },
  {
   "cell_type": "code",
   "execution_count": 11,
   "metadata": {},
   "outputs": [
    {
     "name": "stdout",
     "output_type": "stream",
     "text": [
      "Hello Chetan Sinha"
     ]
    }
   ],
   "source": [
    "@printf(\"Hello %s\", name)"
   ]
  },
  {
   "cell_type": "code",
   "execution_count": 13,
   "metadata": {},
   "outputs": [
    {
     "data": {
      "text/plain": [
       "\"Hello Chetan Sinha\""
      ]
     },
     "execution_count": 13,
     "metadata": {},
     "output_type": "execute_result"
    }
   ],
   "source": [
    "@sprintf(\"Hello %s\", name)"
   ]
  },
  {
   "cell_type": "code",
   "execution_count": 14,
   "metadata": {},
   "outputs": [
    {
     "name": "stdout",
     "output_type": "stream",
     "text": [
      "i"
     ]
    }
   ],
   "source": [
    "ch = 'i'\n",
    "@printf(\"%c\", ch)"
   ]
  },
  {
   "cell_type": "code",
   "execution_count": 15,
   "metadata": {},
   "outputs": [
    {
     "name": "stdout",
     "output_type": "stream",
     "text": [
      "1.212e+09"
     ]
    }
   ],
   "source": [
    "z = 1212341132\n",
    "@printf(\"%.3e\", z)"
   ]
  },
  {
   "cell_type": "markdown",
   "metadata": {},
   "source": [
    "# Working with .csv files"
   ]
  },
  {
   "cell_type": "code",
   "execution_count": 16,
   "metadata": {},
   "outputs": [
    {
     "ename": "ArgumentError",
     "evalue": "ArgumentError: Package CSV not found in current path:\n- Run `import Pkg; Pkg.add(\"CSV\")` to install the CSV package.\n",
     "output_type": "error",
     "traceback": [
      "ArgumentError: Package CSV not found in current path:\n- Run `import Pkg; Pkg.add(\"CSV\")` to install the CSV package.\n",
      "",
      "Stacktrace:",
      " [1] require(::Module, ::Symbol) at .\\loading.jl:892",
      " [2] top-level scope at In[16]:1"
     ]
    }
   ],
   "source": [
    "using CSV"
   ]
  },
  {
   "cell_type": "code",
   "execution_count": 17,
   "metadata": {},
   "outputs": [],
   "source": [
    "using Pkg"
   ]
  },
  {
   "cell_type": "code",
   "execution_count": 18,
   "metadata": {
    "scrolled": true
   },
   "outputs": [
    {
     "name": "stderr",
     "output_type": "stream",
     "text": [
      "\u001b[32m\u001b[1m   Updating\u001b[22m\u001b[39m registry at `C:\\Users\\HP\\.julia\\registries\\General`\n"
     ]
    },
    {
     "name": "stdout",
     "output_type": "stream",
     "text": [
      "\u001b[?25l"
     ]
    },
    {
     "name": "stderr",
     "output_type": "stream",
     "text": [
      "\u001b[32m\u001b[1m   Updating\u001b[22m\u001b[39m git-repo `https://github.com/JuliaRegistries/General.git`\n"
     ]
    },
    {
     "name": "stdout",
     "output_type": "stream",
     "text": [
      "\u001b[2K\u001b[?25h[1mFetching:\u001b[22m\u001b[39m [========================================>]  100.0 %"
     ]
    },
    {
     "name": "stderr",
     "output_type": "stream",
     "text": [
      "\u001b[32m\u001b[1m  Resolving\u001b[22m\u001b[39m package versions...\n",
      "\u001b[32m\u001b[1m  Installed\u001b[22m\u001b[39m Reexport ──────────────────── v0.2.0\n",
      "\u001b[32m\u001b[1m  Installed\u001b[22m\u001b[39m Missings ──────────────────── v0.4.3\n",
      "\u001b[32m\u001b[1m  Installed\u001b[22m\u001b[39m IteratorInterfaceExtensions ─ v1.0.0\n",
      "\u001b[32m\u001b[1m  Installed\u001b[22m\u001b[39m DataAPI ───────────────────── v1.3.0\n",
      "\u001b[32m\u001b[1m  Installed\u001b[22m\u001b[39m OrderedCollections ────────── v1.1.0\n",
      "\u001b[32m\u001b[1m  Installed\u001b[22m\u001b[39m TableTraits ───────────────── v1.0.0\n",
      "\u001b[32m\u001b[1m  Installed\u001b[22m\u001b[39m WeakRefStrings ────────────── v0.6.2\n",
      "\u001b[32m\u001b[1m  Installed\u001b[22m\u001b[39m FilePathsBase ─────────────── v0.7.0\n",
      "\u001b[32m\u001b[1m  Installed\u001b[22m\u001b[39m SortingAlgorithms ─────────── v0.3.1\n",
      "\u001b[32m\u001b[1m  Installed\u001b[22m\u001b[39m Tables ────────────────────── v1.0.4\n",
      "\u001b[32m\u001b[1m  Installed\u001b[22m\u001b[39m InvertedIndices ───────────── v1.0.0\n",
      "\u001b[32m\u001b[1m  Installed\u001b[22m\u001b[39m DataValueInterfaces ───────── v1.0.0\n",
      "\u001b[32m\u001b[1m  Installed\u001b[22m\u001b[39m PooledArrays ──────────────── v0.5.3\n",
      "\u001b[32m\u001b[1m  Installed\u001b[22m\u001b[39m DataStructures ────────────── v0.17.15\n",
      "\u001b[32m\u001b[1m  Installed\u001b[22m\u001b[39m Compat ────────────────────── v3.9.0\n",
      "\u001b[32m\u001b[1m  Installed\u001b[22m\u001b[39m CategoricalArrays ─────────── v0.7.7\n",
      "\u001b[32m\u001b[1m  Installed\u001b[22m\u001b[39m DataFrames ────────────────── v0.20.2\n",
      "\u001b[32m\u001b[1m  Installed\u001b[22m\u001b[39m CSV ───────────────────────── v0.6.1\n",
      "\u001b[32m\u001b[1m   Updating\u001b[22m\u001b[39m `C:\\Users\\HP\\.julia\\environments\\v1.4\\Project.toml`\n",
      " \u001b[90m [336ed68f]\u001b[39m\u001b[92m + CSV v0.6.1\u001b[39m\n",
      "\u001b[32m\u001b[1m   Updating\u001b[22m\u001b[39m `C:\\Users\\HP\\.julia\\environments\\v1.4\\Manifest.toml`\n",
      " \u001b[90m [336ed68f]\u001b[39m\u001b[92m + CSV v0.6.1\u001b[39m\n",
      " \u001b[90m [324d7699]\u001b[39m\u001b[92m + CategoricalArrays v0.7.7\u001b[39m\n",
      " \u001b[90m [34da2185]\u001b[39m\u001b[92m + Compat v3.9.0\u001b[39m\n",
      " \u001b[90m [9a962f9c]\u001b[39m\u001b[92m + DataAPI v1.3.0\u001b[39m\n",
      " \u001b[90m [a93c6f00]\u001b[39m\u001b[92m + DataFrames v0.20.2\u001b[39m\n",
      " \u001b[90m [864edb3b]\u001b[39m\u001b[92m + DataStructures v0.17.15\u001b[39m\n",
      " \u001b[90m [e2d170a0]\u001b[39m\u001b[92m + DataValueInterfaces v1.0.0\u001b[39m\n",
      " \u001b[90m [48062228]\u001b[39m\u001b[92m + FilePathsBase v0.7.0\u001b[39m\n",
      " \u001b[90m [41ab1584]\u001b[39m\u001b[92m + InvertedIndices v1.0.0\u001b[39m\n",
      " \u001b[90m [82899510]\u001b[39m\u001b[92m + IteratorInterfaceExtensions v1.0.0\u001b[39m\n",
      " \u001b[90m [e1d29d7a]\u001b[39m\u001b[92m + Missings v0.4.3\u001b[39m\n",
      " \u001b[90m [bac558e1]\u001b[39m\u001b[92m + OrderedCollections v1.1.0\u001b[39m\n",
      " \u001b[90m [2dfb63ee]\u001b[39m\u001b[92m + PooledArrays v0.5.3\u001b[39m\n",
      " \u001b[90m [189a3867]\u001b[39m\u001b[92m + Reexport v0.2.0\u001b[39m\n",
      " \u001b[90m [a2af1166]\u001b[39m\u001b[92m + SortingAlgorithms v0.3.1\u001b[39m\n",
      " \u001b[90m [3783bdb8]\u001b[39m\u001b[92m + TableTraits v1.0.0\u001b[39m\n",
      " \u001b[90m [bd369af6]\u001b[39m\u001b[92m + Tables v1.0.4\u001b[39m\n",
      " \u001b[90m [ea10d353]\u001b[39m\u001b[92m + WeakRefStrings v0.6.2\u001b[39m\n",
      " \u001b[90m [8bb1440f]\u001b[39m\u001b[92m + DelimitedFiles \u001b[39m\n",
      " \u001b[90m [9fa8497b]\u001b[39m\u001b[92m + Future \u001b[39m\n",
      " \u001b[90m [37e2e46d]\u001b[39m\u001b[92m + LinearAlgebra \u001b[39m\n",
      " \u001b[90m [1a1011a3]\u001b[39m\u001b[92m + SharedArrays \u001b[39m\n",
      " \u001b[90m [2f01184e]\u001b[39m\u001b[92m + SparseArrays \u001b[39m\n",
      " \u001b[90m [10745b16]\u001b[39m\u001b[92m + Statistics \u001b[39m\n"
     ]
    }
   ],
   "source": [
    "Pkg.add(\"CSV\")"
   ]
  },
  {
   "cell_type": "code",
   "execution_count": 19,
   "metadata": {},
   "outputs": [
    {
     "name": "stderr",
     "output_type": "stream",
     "text": [
      "┌ Info: Precompiling CSV [336ed68f-0bac-5ca0-87d4-7b16caf5d00b]\n",
      "└ @ Base loading.jl:1260\n"
     ]
    }
   ],
   "source": [
    "using CSV"
   ]
  },
  {
   "cell_type": "code",
   "execution_count": 25,
   "metadata": {
    "scrolled": true
   },
   "outputs": [
    {
     "data": {
      "text/html": [
       "<table class=\"data-frame\"><thead><tr><th></th><th>school</th><th>sex</th><th>age</th><th>address</th><th>famsize</th><th>Pstatus</th><th>Medu</th><th>Fedu</th><th>Mjob</th><th>Fjob</th></tr><tr><th></th><th>String</th><th>String</th><th>Int64</th><th>String</th><th>String</th><th>String</th><th>Int64</th><th>Int64</th><th>String</th><th>String</th></tr></thead><tbody><p>395 rows × 33 columns (omitted printing of 23 columns)</p><tr><th>1</th><td>GP</td><td>F</td><td>18</td><td>U</td><td>GT3</td><td>A</td><td>4</td><td>4</td><td>at_home</td><td>teacher</td></tr><tr><th>2</th><td>GP</td><td>F</td><td>17</td><td>U</td><td>GT3</td><td>T</td><td>1</td><td>1</td><td>at_home</td><td>other</td></tr><tr><th>3</th><td>GP</td><td>F</td><td>15</td><td>U</td><td>LE3</td><td>T</td><td>1</td><td>1</td><td>at_home</td><td>other</td></tr><tr><th>4</th><td>GP</td><td>F</td><td>15</td><td>U</td><td>GT3</td><td>T</td><td>4</td><td>2</td><td>health</td><td>services</td></tr><tr><th>5</th><td>GP</td><td>F</td><td>16</td><td>U</td><td>GT3</td><td>T</td><td>3</td><td>3</td><td>other</td><td>other</td></tr><tr><th>6</th><td>GP</td><td>M</td><td>16</td><td>U</td><td>LE3</td><td>T</td><td>4</td><td>3</td><td>services</td><td>other</td></tr><tr><th>7</th><td>GP</td><td>M</td><td>16</td><td>U</td><td>LE3</td><td>T</td><td>2</td><td>2</td><td>other</td><td>other</td></tr><tr><th>8</th><td>GP</td><td>F</td><td>17</td><td>U</td><td>GT3</td><td>A</td><td>4</td><td>4</td><td>other</td><td>teacher</td></tr><tr><th>9</th><td>GP</td><td>M</td><td>15</td><td>U</td><td>LE3</td><td>A</td><td>3</td><td>2</td><td>services</td><td>other</td></tr><tr><th>10</th><td>GP</td><td>M</td><td>15</td><td>U</td><td>GT3</td><td>T</td><td>3</td><td>4</td><td>other</td><td>other</td></tr><tr><th>11</th><td>GP</td><td>F</td><td>15</td><td>U</td><td>GT3</td><td>T</td><td>4</td><td>4</td><td>teacher</td><td>health</td></tr><tr><th>12</th><td>GP</td><td>F</td><td>15</td><td>U</td><td>GT3</td><td>T</td><td>2</td><td>1</td><td>services</td><td>other</td></tr><tr><th>13</th><td>GP</td><td>M</td><td>15</td><td>U</td><td>LE3</td><td>T</td><td>4</td><td>4</td><td>health</td><td>services</td></tr><tr><th>14</th><td>GP</td><td>M</td><td>15</td><td>U</td><td>GT3</td><td>T</td><td>4</td><td>3</td><td>teacher</td><td>other</td></tr><tr><th>15</th><td>GP</td><td>M</td><td>15</td><td>U</td><td>GT3</td><td>A</td><td>2</td><td>2</td><td>other</td><td>other</td></tr><tr><th>16</th><td>GP</td><td>F</td><td>16</td><td>U</td><td>GT3</td><td>T</td><td>4</td><td>4</td><td>health</td><td>other</td></tr><tr><th>17</th><td>GP</td><td>F</td><td>16</td><td>U</td><td>GT3</td><td>T</td><td>4</td><td>4</td><td>services</td><td>services</td></tr><tr><th>18</th><td>GP</td><td>F</td><td>16</td><td>U</td><td>GT3</td><td>T</td><td>3</td><td>3</td><td>other</td><td>other</td></tr><tr><th>19</th><td>GP</td><td>M</td><td>17</td><td>U</td><td>GT3</td><td>T</td><td>3</td><td>2</td><td>services</td><td>services</td></tr><tr><th>20</th><td>GP</td><td>M</td><td>16</td><td>U</td><td>LE3</td><td>T</td><td>4</td><td>3</td><td>health</td><td>other</td></tr><tr><th>21</th><td>GP</td><td>M</td><td>15</td><td>U</td><td>GT3</td><td>T</td><td>4</td><td>3</td><td>teacher</td><td>other</td></tr><tr><th>22</th><td>GP</td><td>M</td><td>15</td><td>U</td><td>GT3</td><td>T</td><td>4</td><td>4</td><td>health</td><td>health</td></tr><tr><th>23</th><td>GP</td><td>M</td><td>16</td><td>U</td><td>LE3</td><td>T</td><td>4</td><td>2</td><td>teacher</td><td>other</td></tr><tr><th>24</th><td>GP</td><td>M</td><td>16</td><td>U</td><td>LE3</td><td>T</td><td>2</td><td>2</td><td>other</td><td>other</td></tr><tr><th>25</th><td>GP</td><td>F</td><td>15</td><td>R</td><td>GT3</td><td>T</td><td>2</td><td>4</td><td>services</td><td>health</td></tr><tr><th>26</th><td>GP</td><td>F</td><td>16</td><td>U</td><td>GT3</td><td>T</td><td>2</td><td>2</td><td>services</td><td>services</td></tr><tr><th>27</th><td>GP</td><td>M</td><td>15</td><td>U</td><td>GT3</td><td>T</td><td>2</td><td>2</td><td>other</td><td>other</td></tr><tr><th>28</th><td>GP</td><td>M</td><td>15</td><td>U</td><td>GT3</td><td>T</td><td>4</td><td>2</td><td>health</td><td>services</td></tr><tr><th>29</th><td>GP</td><td>M</td><td>16</td><td>U</td><td>LE3</td><td>A</td><td>3</td><td>4</td><td>services</td><td>other</td></tr><tr><th>30</th><td>GP</td><td>M</td><td>16</td><td>U</td><td>GT3</td><td>T</td><td>4</td><td>4</td><td>teacher</td><td>teacher</td></tr><tr><th>&vellip;</th><td>&vellip;</td><td>&vellip;</td><td>&vellip;</td><td>&vellip;</td><td>&vellip;</td><td>&vellip;</td><td>&vellip;</td><td>&vellip;</td><td>&vellip;</td><td>&vellip;</td></tr></tbody></table>"
      ],
      "text/latex": [
       "\\begin{tabular}{r|ccccccccccc}\n",
       "\t& school & sex & age & address & famsize & Pstatus & Medu & Fedu & Mjob & Fjob & \\\\\n",
       "\t\\hline\n",
       "\t& String & String & Int64 & String & String & String & Int64 & Int64 & String & String & \\\\\n",
       "\t\\hline\n",
       "\t1 & GP & F & 18 & U & GT3 & A & 4 & 4 & at\\_home & teacher & $\\dots$ \\\\\n",
       "\t2 & GP & F & 17 & U & GT3 & T & 1 & 1 & at\\_home & other & $\\dots$ \\\\\n",
       "\t3 & GP & F & 15 & U & LE3 & T & 1 & 1 & at\\_home & other & $\\dots$ \\\\\n",
       "\t4 & GP & F & 15 & U & GT3 & T & 4 & 2 & health & services & $\\dots$ \\\\\n",
       "\t5 & GP & F & 16 & U & GT3 & T & 3 & 3 & other & other & $\\dots$ \\\\\n",
       "\t6 & GP & M & 16 & U & LE3 & T & 4 & 3 & services & other & $\\dots$ \\\\\n",
       "\t7 & GP & M & 16 & U & LE3 & T & 2 & 2 & other & other & $\\dots$ \\\\\n",
       "\t8 & GP & F & 17 & U & GT3 & A & 4 & 4 & other & teacher & $\\dots$ \\\\\n",
       "\t9 & GP & M & 15 & U & LE3 & A & 3 & 2 & services & other & $\\dots$ \\\\\n",
       "\t10 & GP & M & 15 & U & GT3 & T & 3 & 4 & other & other & $\\dots$ \\\\\n",
       "\t11 & GP & F & 15 & U & GT3 & T & 4 & 4 & teacher & health & $\\dots$ \\\\\n",
       "\t12 & GP & F & 15 & U & GT3 & T & 2 & 1 & services & other & $\\dots$ \\\\\n",
       "\t13 & GP & M & 15 & U & LE3 & T & 4 & 4 & health & services & $\\dots$ \\\\\n",
       "\t14 & GP & M & 15 & U & GT3 & T & 4 & 3 & teacher & other & $\\dots$ \\\\\n",
       "\t15 & GP & M & 15 & U & GT3 & A & 2 & 2 & other & other & $\\dots$ \\\\\n",
       "\t16 & GP & F & 16 & U & GT3 & T & 4 & 4 & health & other & $\\dots$ \\\\\n",
       "\t17 & GP & F & 16 & U & GT3 & T & 4 & 4 & services & services & $\\dots$ \\\\\n",
       "\t18 & GP & F & 16 & U & GT3 & T & 3 & 3 & other & other & $\\dots$ \\\\\n",
       "\t19 & GP & M & 17 & U & GT3 & T & 3 & 2 & services & services & $\\dots$ \\\\\n",
       "\t20 & GP & M & 16 & U & LE3 & T & 4 & 3 & health & other & $\\dots$ \\\\\n",
       "\t21 & GP & M & 15 & U & GT3 & T & 4 & 3 & teacher & other & $\\dots$ \\\\\n",
       "\t22 & GP & M & 15 & U & GT3 & T & 4 & 4 & health & health & $\\dots$ \\\\\n",
       "\t23 & GP & M & 16 & U & LE3 & T & 4 & 2 & teacher & other & $\\dots$ \\\\\n",
       "\t24 & GP & M & 16 & U & LE3 & T & 2 & 2 & other & other & $\\dots$ \\\\\n",
       "\t25 & GP & F & 15 & R & GT3 & T & 2 & 4 & services & health & $\\dots$ \\\\\n",
       "\t26 & GP & F & 16 & U & GT3 & T & 2 & 2 & services & services & $\\dots$ \\\\\n",
       "\t27 & GP & M & 15 & U & GT3 & T & 2 & 2 & other & other & $\\dots$ \\\\\n",
       "\t28 & GP & M & 15 & U & GT3 & T & 4 & 2 & health & services & $\\dots$ \\\\\n",
       "\t29 & GP & M & 16 & U & LE3 & A & 3 & 4 & services & other & $\\dots$ \\\\\n",
       "\t30 & GP & M & 16 & U & GT3 & T & 4 & 4 & teacher & teacher & $\\dots$ \\\\\n",
       "\t$\\dots$ & $\\dots$ & $\\dots$ & $\\dots$ & $\\dots$ & $\\dots$ & $\\dots$ & $\\dots$ & $\\dots$ & $\\dots$ & $\\dots$ &  \\\\\n",
       "\\end{tabular}\n"
      ],
      "text/plain": [
       "395×33 DataFrames.DataFrame. Omitted printing of 25 columns\n",
       "│ Row │ school │ sex    │ age   │ address │ famsize │ Pstatus │ Medu  │ Fedu  │\n",
       "│     │ \u001b[90mString\u001b[39m │ \u001b[90mString\u001b[39m │ \u001b[90mInt64\u001b[39m │ \u001b[90mString\u001b[39m  │ \u001b[90mString\u001b[39m  │ \u001b[90mString\u001b[39m  │ \u001b[90mInt64\u001b[39m │ \u001b[90mInt64\u001b[39m │\n",
       "├─────┼────────┼────────┼───────┼─────────┼─────────┼─────────┼───────┼───────┤\n",
       "│ 1   │ GP     │ F      │ 18    │ U       │ GT3     │ A       │ 4     │ 4     │\n",
       "│ 2   │ GP     │ F      │ 17    │ U       │ GT3     │ T       │ 1     │ 1     │\n",
       "│ 3   │ GP     │ F      │ 15    │ U       │ LE3     │ T       │ 1     │ 1     │\n",
       "│ 4   │ GP     │ F      │ 15    │ U       │ GT3     │ T       │ 4     │ 2     │\n",
       "│ 5   │ GP     │ F      │ 16    │ U       │ GT3     │ T       │ 3     │ 3     │\n",
       "│ 6   │ GP     │ M      │ 16    │ U       │ LE3     │ T       │ 4     │ 3     │\n",
       "│ 7   │ GP     │ M      │ 16    │ U       │ LE3     │ T       │ 2     │ 2     │\n",
       "│ 8   │ GP     │ F      │ 17    │ U       │ GT3     │ A       │ 4     │ 4     │\n",
       "│ 9   │ GP     │ M      │ 15    │ U       │ LE3     │ A       │ 3     │ 2     │\n",
       "│ 10  │ GP     │ M      │ 15    │ U       │ GT3     │ T       │ 3     │ 4     │\n",
       "⋮\n",
       "│ 385 │ MS     │ M      │ 18    │ R       │ GT3     │ T       │ 4     │ 2     │\n",
       "│ 386 │ MS     │ F      │ 18    │ R       │ GT3     │ T       │ 2     │ 2     │\n",
       "│ 387 │ MS     │ F      │ 18    │ R       │ GT3     │ T       │ 4     │ 4     │\n",
       "│ 388 │ MS     │ F      │ 19    │ R       │ GT3     │ T       │ 2     │ 3     │\n",
       "│ 389 │ MS     │ F      │ 18    │ U       │ LE3     │ T       │ 3     │ 1     │\n",
       "│ 390 │ MS     │ F      │ 18    │ U       │ GT3     │ T       │ 1     │ 1     │\n",
       "│ 391 │ MS     │ M      │ 20    │ U       │ LE3     │ A       │ 2     │ 2     │\n",
       "│ 392 │ MS     │ M      │ 17    │ U       │ LE3     │ T       │ 3     │ 1     │\n",
       "│ 393 │ MS     │ M      │ 21    │ R       │ GT3     │ T       │ 1     │ 1     │\n",
       "│ 394 │ MS     │ M      │ 18    │ R       │ LE3     │ T       │ 3     │ 2     │\n",
       "│ 395 │ MS     │ M      │ 19    │ U       │ LE3     │ T       │ 1     │ 1     │"
      ]
     },
     "execution_count": 25,
     "metadata": {},
     "output_type": "execute_result"
    }
   ],
   "source": [
    "prop = CSV.read(\"student-mat.csv\", normalizenames = true)"
   ]
  },
  {
   "cell_type": "code",
   "execution_count": 26,
   "metadata": {},
   "outputs": [
    {
     "data": {
      "text/plain": [
       "DataFrames.DataFrame"
      ]
     },
     "execution_count": 26,
     "metadata": {},
     "output_type": "execute_result"
    }
   ],
   "source": [
    "typeof(prop)"
   ]
  },
  {
   "cell_type": "code",
   "execution_count": 27,
   "metadata": {},
   "outputs": [
    {
     "data": {
      "text/plain": [
       "33-element Array{Symbol,1}:\n",
       " :school\n",
       " :sex\n",
       " :age\n",
       " :address\n",
       " :famsize\n",
       " :Pstatus\n",
       " :Medu\n",
       " :Fedu\n",
       " :Mjob\n",
       " :Fjob\n",
       " :reason\n",
       " :guardian\n",
       " :traveltime\n",
       " ⋮\n",
       " :internet\n",
       " :romantic\n",
       " :famrel\n",
       " :freetime\n",
       " :goout\n",
       " :Dalc\n",
       " :Walc\n",
       " :health\n",
       " :absences\n",
       " :G1\n",
       " :G2\n",
       " :G3"
      ]
     },
     "execution_count": 27,
     "metadata": {},
     "output_type": "execute_result"
    }
   ],
   "source": [
    "names(prop)"
   ]
  },
  {
   "cell_type": "code",
   "execution_count": 28,
   "metadata": {},
   "outputs": [
    {
     "data": {
      "text/plain": [
       "(395, 33)"
      ]
     },
     "execution_count": 28,
     "metadata": {},
     "output_type": "execute_result"
    }
   ],
   "source": [
    "size(prop)"
   ]
  },
  {
   "cell_type": "code",
   "execution_count": 30,
   "metadata": {},
   "outputs": [
    {
     "name": "stderr",
     "output_type": "stream",
     "text": [
      "\u001b[32m\u001b[1m  Resolving\u001b[22m\u001b[39m package versions...\n",
      "\u001b[32m\u001b[1m   Updating\u001b[22m\u001b[39m `C:\\Users\\HP\\.julia\\environments\\v1.4\\Project.toml`\n",
      " \u001b[90m [a93c6f00]\u001b[39m\u001b[92m + DataFrames v0.20.2\u001b[39m\n",
      "\u001b[32m\u001b[1m   Updating\u001b[22m\u001b[39m `C:\\Users\\HP\\.julia\\environments\\v1.4\\Manifest.toml`\n",
      "\u001b[90m [no changes]\u001b[39m\n"
     ]
    }
   ],
   "source": [
    "Pkg.add(\"DataFrames\")"
   ]
  },
  {
   "cell_type": "code",
   "execution_count": 31,
   "metadata": {},
   "outputs": [],
   "source": [
    "using DataFrames"
   ]
  },
  {
   "cell_type": "code",
   "execution_count": 32,
   "metadata": {},
   "outputs": [
    {
     "name": "stderr",
     "output_type": "stream",
     "text": [
      "┌ Warning: `head(df::AbstractDataFrame)` is deprecated, use `first(df, 6)` instead.\n",
      "│   caller = top-level scope at In[32]:1\n",
      "└ @ Core In[32]:1\n"
     ]
    },
    {
     "data": {
      "text/html": [
       "<table class=\"data-frame\"><thead><tr><th></th><th>school</th><th>sex</th><th>age</th><th>address</th><th>famsize</th><th>Pstatus</th><th>Medu</th><th>Fedu</th><th>Mjob</th><th>Fjob</th></tr><tr><th></th><th>String</th><th>String</th><th>Int64</th><th>String</th><th>String</th><th>String</th><th>Int64</th><th>Int64</th><th>String</th><th>String</th></tr></thead><tbody><p>6 rows × 33 columns (omitted printing of 23 columns)</p><tr><th>1</th><td>GP</td><td>F</td><td>18</td><td>U</td><td>GT3</td><td>A</td><td>4</td><td>4</td><td>at_home</td><td>teacher</td></tr><tr><th>2</th><td>GP</td><td>F</td><td>17</td><td>U</td><td>GT3</td><td>T</td><td>1</td><td>1</td><td>at_home</td><td>other</td></tr><tr><th>3</th><td>GP</td><td>F</td><td>15</td><td>U</td><td>LE3</td><td>T</td><td>1</td><td>1</td><td>at_home</td><td>other</td></tr><tr><th>4</th><td>GP</td><td>F</td><td>15</td><td>U</td><td>GT3</td><td>T</td><td>4</td><td>2</td><td>health</td><td>services</td></tr><tr><th>5</th><td>GP</td><td>F</td><td>16</td><td>U</td><td>GT3</td><td>T</td><td>3</td><td>3</td><td>other</td><td>other</td></tr><tr><th>6</th><td>GP</td><td>M</td><td>16</td><td>U</td><td>LE3</td><td>T</td><td>4</td><td>3</td><td>services</td><td>other</td></tr></tbody></table>"
      ],
      "text/latex": [
       "\\begin{tabular}{r|ccccccccccc}\n",
       "\t& school & sex & age & address & famsize & Pstatus & Medu & Fedu & Mjob & Fjob & \\\\\n",
       "\t\\hline\n",
       "\t& String & String & Int64 & String & String & String & Int64 & Int64 & String & String & \\\\\n",
       "\t\\hline\n",
       "\t1 & GP & F & 18 & U & GT3 & A & 4 & 4 & at\\_home & teacher & $\\dots$ \\\\\n",
       "\t2 & GP & F & 17 & U & GT3 & T & 1 & 1 & at\\_home & other & $\\dots$ \\\\\n",
       "\t3 & GP & F & 15 & U & LE3 & T & 1 & 1 & at\\_home & other & $\\dots$ \\\\\n",
       "\t4 & GP & F & 15 & U & GT3 & T & 4 & 2 & health & services & $\\dots$ \\\\\n",
       "\t5 & GP & F & 16 & U & GT3 & T & 3 & 3 & other & other & $\\dots$ \\\\\n",
       "\t6 & GP & M & 16 & U & LE3 & T & 4 & 3 & services & other & $\\dots$ \\\\\n",
       "\\end{tabular}\n"
      ],
      "text/plain": [
       "6×33 DataFrame. Omitted printing of 25 columns\n",
       "│ Row │ school │ sex    │ age   │ address │ famsize │ Pstatus │ Medu  │ Fedu  │\n",
       "│     │ \u001b[90mString\u001b[39m │ \u001b[90mString\u001b[39m │ \u001b[90mInt64\u001b[39m │ \u001b[90mString\u001b[39m  │ \u001b[90mString\u001b[39m  │ \u001b[90mString\u001b[39m  │ \u001b[90mInt64\u001b[39m │ \u001b[90mInt64\u001b[39m │\n",
       "├─────┼────────┼────────┼───────┼─────────┼─────────┼─────────┼───────┼───────┤\n",
       "│ 1   │ GP     │ F      │ 18    │ U       │ GT3     │ A       │ 4     │ 4     │\n",
       "│ 2   │ GP     │ F      │ 17    │ U       │ GT3     │ T       │ 1     │ 1     │\n",
       "│ 3   │ GP     │ F      │ 15    │ U       │ LE3     │ T       │ 1     │ 1     │\n",
       "│ 4   │ GP     │ F      │ 15    │ U       │ GT3     │ T       │ 4     │ 2     │\n",
       "│ 5   │ GP     │ F      │ 16    │ U       │ GT3     │ T       │ 3     │ 3     │\n",
       "│ 6   │ GP     │ M      │ 16    │ U       │ LE3     │ T       │ 4     │ 3     │"
      ]
     },
     "execution_count": 32,
     "metadata": {},
     "output_type": "execute_result"
    }
   ],
   "source": [
    "head(prop)"
   ]
  },
  {
   "cell_type": "code",
   "execution_count": 33,
   "metadata": {
    "scrolled": true
   },
   "outputs": [
    {
     "name": "stderr",
     "output_type": "stream",
     "text": [
      "┌ Warning: `tail(df::AbstractDataFrame)` is deprecated, use `last(df, 6)` instead.\n",
      "│   caller = top-level scope at In[33]:1\n",
      "└ @ Core In[33]:1\n"
     ]
    },
    {
     "data": {
      "text/html": [
       "<table class=\"data-frame\"><thead><tr><th></th><th>school</th><th>sex</th><th>age</th><th>address</th><th>famsize</th><th>Pstatus</th><th>Medu</th><th>Fedu</th><th>Mjob</th><th>Fjob</th></tr><tr><th></th><th>String</th><th>String</th><th>Int64</th><th>String</th><th>String</th><th>String</th><th>Int64</th><th>Int64</th><th>String</th><th>String</th></tr></thead><tbody><p>6 rows × 33 columns (omitted printing of 23 columns)</p><tr><th>1</th><td>MS</td><td>F</td><td>18</td><td>U</td><td>GT3</td><td>T</td><td>1</td><td>1</td><td>other</td><td>other</td></tr><tr><th>2</th><td>MS</td><td>M</td><td>20</td><td>U</td><td>LE3</td><td>A</td><td>2</td><td>2</td><td>services</td><td>services</td></tr><tr><th>3</th><td>MS</td><td>M</td><td>17</td><td>U</td><td>LE3</td><td>T</td><td>3</td><td>1</td><td>services</td><td>services</td></tr><tr><th>4</th><td>MS</td><td>M</td><td>21</td><td>R</td><td>GT3</td><td>T</td><td>1</td><td>1</td><td>other</td><td>other</td></tr><tr><th>5</th><td>MS</td><td>M</td><td>18</td><td>R</td><td>LE3</td><td>T</td><td>3</td><td>2</td><td>services</td><td>other</td></tr><tr><th>6</th><td>MS</td><td>M</td><td>19</td><td>U</td><td>LE3</td><td>T</td><td>1</td><td>1</td><td>other</td><td>at_home</td></tr></tbody></table>"
      ],
      "text/latex": [
       "\\begin{tabular}{r|ccccccccccc}\n",
       "\t& school & sex & age & address & famsize & Pstatus & Medu & Fedu & Mjob & Fjob & \\\\\n",
       "\t\\hline\n",
       "\t& String & String & Int64 & String & String & String & Int64 & Int64 & String & String & \\\\\n",
       "\t\\hline\n",
       "\t1 & MS & F & 18 & U & GT3 & T & 1 & 1 & other & other & $\\dots$ \\\\\n",
       "\t2 & MS & M & 20 & U & LE3 & A & 2 & 2 & services & services & $\\dots$ \\\\\n",
       "\t3 & MS & M & 17 & U & LE3 & T & 3 & 1 & services & services & $\\dots$ \\\\\n",
       "\t4 & MS & M & 21 & R & GT3 & T & 1 & 1 & other & other & $\\dots$ \\\\\n",
       "\t5 & MS & M & 18 & R & LE3 & T & 3 & 2 & services & other & $\\dots$ \\\\\n",
       "\t6 & MS & M & 19 & U & LE3 & T & 1 & 1 & other & at\\_home & $\\dots$ \\\\\n",
       "\\end{tabular}\n"
      ],
      "text/plain": [
       "6×33 DataFrame. Omitted printing of 25 columns\n",
       "│ Row │ school │ sex    │ age   │ address │ famsize │ Pstatus │ Medu  │ Fedu  │\n",
       "│     │ \u001b[90mString\u001b[39m │ \u001b[90mString\u001b[39m │ \u001b[90mInt64\u001b[39m │ \u001b[90mString\u001b[39m  │ \u001b[90mString\u001b[39m  │ \u001b[90mString\u001b[39m  │ \u001b[90mInt64\u001b[39m │ \u001b[90mInt64\u001b[39m │\n",
       "├─────┼────────┼────────┼───────┼─────────┼─────────┼─────────┼───────┼───────┤\n",
       "│ 1   │ MS     │ F      │ 18    │ U       │ GT3     │ T       │ 1     │ 1     │\n",
       "│ 2   │ MS     │ M      │ 20    │ U       │ LE3     │ A       │ 2     │ 2     │\n",
       "│ 3   │ MS     │ M      │ 17    │ U       │ LE3     │ T       │ 3     │ 1     │\n",
       "│ 4   │ MS     │ M      │ 21    │ R       │ GT3     │ T       │ 1     │ 1     │\n",
       "│ 5   │ MS     │ M      │ 18    │ R       │ LE3     │ T       │ 3     │ 2     │\n",
       "│ 6   │ MS     │ M      │ 19    │ U       │ LE3     │ T       │ 1     │ 1     │"
      ]
     },
     "execution_count": 33,
     "metadata": {},
     "output_type": "execute_result"
    }
   ],
   "source": [
    "\n",
    "tail(prop)"
   ]
  },
  {
   "cell_type": "code",
   "execution_count": 34,
   "metadata": {
    "scrolled": true
   },
   "outputs": [
    {
     "data": {
      "text/html": [
       "<table class=\"data-frame\"><thead><tr><th></th><th>variable</th><th>mean</th><th>min</th><th>median</th><th>max</th><th>nunique</th><th>nmissing</th><th>eltype</th></tr><tr><th></th><th>Symbol</th><th>Union…</th><th>Any</th><th>Union…</th><th>Any</th><th>Union…</th><th>Nothing</th><th>DataType</th></tr></thead><tbody><p>33 rows × 8 columns</p><tr><th>1</th><td>school</td><td></td><td>GP</td><td></td><td>MS</td><td>2</td><td></td><td>String</td></tr><tr><th>2</th><td>sex</td><td></td><td>F</td><td></td><td>M</td><td>2</td><td></td><td>String</td></tr><tr><th>3</th><td>age</td><td>16.6962</td><td>15</td><td>17.0</td><td>22</td><td></td><td></td><td>Int64</td></tr><tr><th>4</th><td>address</td><td></td><td>R</td><td></td><td>U</td><td>2</td><td></td><td>String</td></tr><tr><th>5</th><td>famsize</td><td></td><td>GT3</td><td></td><td>LE3</td><td>2</td><td></td><td>String</td></tr><tr><th>6</th><td>Pstatus</td><td></td><td>A</td><td></td><td>T</td><td>2</td><td></td><td>String</td></tr><tr><th>7</th><td>Medu</td><td>2.74937</td><td>0</td><td>3.0</td><td>4</td><td></td><td></td><td>Int64</td></tr><tr><th>8</th><td>Fedu</td><td>2.52152</td><td>0</td><td>2.0</td><td>4</td><td></td><td></td><td>Int64</td></tr><tr><th>9</th><td>Mjob</td><td></td><td>at_home</td><td></td><td>teacher</td><td>5</td><td></td><td>String</td></tr><tr><th>10</th><td>Fjob</td><td></td><td>at_home</td><td></td><td>teacher</td><td>5</td><td></td><td>String</td></tr><tr><th>11</th><td>reason</td><td></td><td>course</td><td></td><td>reputation</td><td>4</td><td></td><td>String</td></tr><tr><th>12</th><td>guardian</td><td></td><td>father</td><td></td><td>other</td><td>3</td><td></td><td>String</td></tr><tr><th>13</th><td>traveltime</td><td>1.4481</td><td>1</td><td>1.0</td><td>4</td><td></td><td></td><td>Int64</td></tr><tr><th>14</th><td>studytime</td><td>2.03544</td><td>1</td><td>2.0</td><td>4</td><td></td><td></td><td>Int64</td></tr><tr><th>15</th><td>failures</td><td>0.334177</td><td>0</td><td>0.0</td><td>3</td><td></td><td></td><td>Int64</td></tr><tr><th>16</th><td>schoolsup</td><td></td><td>no</td><td></td><td>yes</td><td>2</td><td></td><td>String</td></tr><tr><th>17</th><td>famsup</td><td></td><td>no</td><td></td><td>yes</td><td>2</td><td></td><td>String</td></tr><tr><th>18</th><td>paid</td><td></td><td>no</td><td></td><td>yes</td><td>2</td><td></td><td>String</td></tr><tr><th>19</th><td>activities</td><td></td><td>no</td><td></td><td>yes</td><td>2</td><td></td><td>String</td></tr><tr><th>20</th><td>nursery</td><td></td><td>no</td><td></td><td>yes</td><td>2</td><td></td><td>String</td></tr><tr><th>21</th><td>higher</td><td></td><td>no</td><td></td><td>yes</td><td>2</td><td></td><td>String</td></tr><tr><th>22</th><td>internet</td><td></td><td>no</td><td></td><td>yes</td><td>2</td><td></td><td>String</td></tr><tr><th>23</th><td>romantic</td><td></td><td>no</td><td></td><td>yes</td><td>2</td><td></td><td>String</td></tr><tr><th>24</th><td>famrel</td><td>3.9443</td><td>1</td><td>4.0</td><td>5</td><td></td><td></td><td>Int64</td></tr><tr><th>25</th><td>freetime</td><td>3.23544</td><td>1</td><td>3.0</td><td>5</td><td></td><td></td><td>Int64</td></tr><tr><th>26</th><td>goout</td><td>3.10886</td><td>1</td><td>3.0</td><td>5</td><td></td><td></td><td>Int64</td></tr><tr><th>27</th><td>Dalc</td><td>1.48101</td><td>1</td><td>1.0</td><td>5</td><td></td><td></td><td>Int64</td></tr><tr><th>28</th><td>Walc</td><td>2.29114</td><td>1</td><td>2.0</td><td>5</td><td></td><td></td><td>Int64</td></tr><tr><th>29</th><td>health</td><td>3.55443</td><td>1</td><td>4.0</td><td>5</td><td></td><td></td><td>Int64</td></tr><tr><th>30</th><td>absences</td><td>5.70886</td><td>0</td><td>4.0</td><td>75</td><td></td><td></td><td>Int64</td></tr><tr><th>&vellip;</th><td>&vellip;</td><td>&vellip;</td><td>&vellip;</td><td>&vellip;</td><td>&vellip;</td><td>&vellip;</td><td>&vellip;</td><td>&vellip;</td></tr></tbody></table>"
      ],
      "text/latex": [
       "\\begin{tabular}{r|cccccccc}\n",
       "\t& variable & mean & min & median & max & nunique & nmissing & eltype\\\\\n",
       "\t\\hline\n",
       "\t& Symbol & Union… & Any & Union… & Any & Union… & Nothing & DataType\\\\\n",
       "\t\\hline\n",
       "\t1 & school &  & GP &  & MS & 2 &  & String \\\\\n",
       "\t2 & sex &  & F &  & M & 2 &  & String \\\\\n",
       "\t3 & age & 16.6962 & 15 & 17.0 & 22 &  &  & Int64 \\\\\n",
       "\t4 & address &  & R &  & U & 2 &  & String \\\\\n",
       "\t5 & famsize &  & GT3 &  & LE3 & 2 &  & String \\\\\n",
       "\t6 & Pstatus &  & A &  & T & 2 &  & String \\\\\n",
       "\t7 & Medu & 2.74937 & 0 & 3.0 & 4 &  &  & Int64 \\\\\n",
       "\t8 & Fedu & 2.52152 & 0 & 2.0 & 4 &  &  & Int64 \\\\\n",
       "\t9 & Mjob &  & at\\_home &  & teacher & 5 &  & String \\\\\n",
       "\t10 & Fjob &  & at\\_home &  & teacher & 5 &  & String \\\\\n",
       "\t11 & reason &  & course &  & reputation & 4 &  & String \\\\\n",
       "\t12 & guardian &  & father &  & other & 3 &  & String \\\\\n",
       "\t13 & traveltime & 1.4481 & 1 & 1.0 & 4 &  &  & Int64 \\\\\n",
       "\t14 & studytime & 2.03544 & 1 & 2.0 & 4 &  &  & Int64 \\\\\n",
       "\t15 & failures & 0.334177 & 0 & 0.0 & 3 &  &  & Int64 \\\\\n",
       "\t16 & schoolsup &  & no &  & yes & 2 &  & String \\\\\n",
       "\t17 & famsup &  & no &  & yes & 2 &  & String \\\\\n",
       "\t18 & paid &  & no &  & yes & 2 &  & String \\\\\n",
       "\t19 & activities &  & no &  & yes & 2 &  & String \\\\\n",
       "\t20 & nursery &  & no &  & yes & 2 &  & String \\\\\n",
       "\t21 & higher &  & no &  & yes & 2 &  & String \\\\\n",
       "\t22 & internet &  & no &  & yes & 2 &  & String \\\\\n",
       "\t23 & romantic &  & no &  & yes & 2 &  & String \\\\\n",
       "\t24 & famrel & 3.9443 & 1 & 4.0 & 5 &  &  & Int64 \\\\\n",
       "\t25 & freetime & 3.23544 & 1 & 3.0 & 5 &  &  & Int64 \\\\\n",
       "\t26 & goout & 3.10886 & 1 & 3.0 & 5 &  &  & Int64 \\\\\n",
       "\t27 & Dalc & 1.48101 & 1 & 1.0 & 5 &  &  & Int64 \\\\\n",
       "\t28 & Walc & 2.29114 & 1 & 2.0 & 5 &  &  & Int64 \\\\\n",
       "\t29 & health & 3.55443 & 1 & 4.0 & 5 &  &  & Int64 \\\\\n",
       "\t30 & absences & 5.70886 & 0 & 4.0 & 75 &  &  & Int64 \\\\\n",
       "\t$\\dots$ & $\\dots$ & $\\dots$ & $\\dots$ & $\\dots$ & $\\dots$ & $\\dots$ & $\\dots$ & $\\dots$ \\\\\n",
       "\\end{tabular}\n"
      ],
      "text/plain": [
       "33×8 DataFrame. Omitted printing of 1 columns\n",
       "│ Row │ variable │ mean    │ min     │ median │ max     │ nunique │ nmissing │\n",
       "│     │ \u001b[90mSymbol\u001b[39m   │ \u001b[90mUnion…\u001b[39m  │ \u001b[90mAny\u001b[39m     │ \u001b[90mUnion…\u001b[39m │ \u001b[90mAny\u001b[39m     │ \u001b[90mUnion…\u001b[39m  │ \u001b[90mNothing\u001b[39m  │\n",
       "├─────┼──────────┼─────────┼─────────┼────────┼─────────┼─────────┼──────────┤\n",
       "│ 1   │ school   │         │ GP      │        │ MS      │ 2       │          │\n",
       "│ 2   │ sex      │         │ F       │        │ M       │ 2       │          │\n",
       "│ 3   │ age      │ 16.6962 │ 15      │ 17.0   │ 22      │         │          │\n",
       "│ 4   │ address  │         │ R       │        │ U       │ 2       │          │\n",
       "│ 5   │ famsize  │         │ GT3     │        │ LE3     │ 2       │          │\n",
       "│ 6   │ Pstatus  │         │ A       │        │ T       │ 2       │          │\n",
       "│ 7   │ Medu     │ 2.74937 │ 0       │ 3.0    │ 4       │         │          │\n",
       "│ 8   │ Fedu     │ 2.52152 │ 0       │ 2.0    │ 4       │         │          │\n",
       "│ 9   │ Mjob     │         │ at_home │        │ teacher │ 5       │          │\n",
       "│ 10  │ Fjob     │         │ at_home │        │ teacher │ 5       │          │\n",
       "⋮\n",
       "│ 23  │ romantic │         │ no      │        │ yes     │ 2       │          │\n",
       "│ 24  │ famrel   │ 3.9443  │ 1       │ 4.0    │ 5       │         │          │\n",
       "│ 25  │ freetime │ 3.23544 │ 1       │ 3.0    │ 5       │         │          │\n",
       "│ 26  │ goout    │ 3.10886 │ 1       │ 3.0    │ 5       │         │          │\n",
       "│ 27  │ Dalc     │ 1.48101 │ 1       │ 1.0    │ 5       │         │          │\n",
       "│ 28  │ Walc     │ 2.29114 │ 1       │ 2.0    │ 5       │         │          │\n",
       "│ 29  │ health   │ 3.55443 │ 1       │ 4.0    │ 5       │         │          │\n",
       "│ 30  │ absences │ 5.70886 │ 0       │ 4.0    │ 75      │         │          │\n",
       "│ 31  │ G1       │ 10.9089 │ 3       │ 11.0   │ 19      │         │          │\n",
       "│ 32  │ G2       │ 10.7139 │ 0       │ 11.0   │ 19      │         │          │\n",
       "│ 33  │ G3       │ 10.4152 │ 0       │ 11.0   │ 20      │         │          │"
      ]
     },
     "execution_count": 34,
     "metadata": {},
     "output_type": "execute_result"
    }
   ],
   "source": [
    "# statistic values\n",
    "describe(prop)"
   ]
  },
  {
   "cell_type": "code",
   "execution_count": 35,
   "metadata": {
    "scrolled": true
   },
   "outputs": [
    {
     "data": {
      "text/plain": [
       "395-element CSV.Column{String,PooledString}:\n",
       " \"GP\"\n",
       " \"GP\"\n",
       " \"GP\"\n",
       " \"GP\"\n",
       " \"GP\"\n",
       " \"GP\"\n",
       " \"GP\"\n",
       " \"GP\"\n",
       " \"GP\"\n",
       " \"GP\"\n",
       " \"GP\"\n",
       " \"GP\"\n",
       " \"GP\"\n",
       " ⋮\n",
       " \"MS\"\n",
       " \"MS\"\n",
       " \"MS\"\n",
       " \"MS\"\n",
       " \"MS\"\n",
       " \"MS\"\n",
       " \"MS\"\n",
       " \"MS\"\n",
       " \"MS\"\n",
       " \"MS\"\n",
       " \"MS\"\n",
       " \"MS\""
      ]
     },
     "execution_count": 35,
     "metadata": {},
     "output_type": "execute_result"
    }
   ],
   "source": [
    "prop.school"
   ]
  },
  {
   "cell_type": "code",
   "execution_count": 37,
   "metadata": {
    "scrolled": true
   },
   "outputs": [
    {
     "data": {
      "text/plain": [
       "395-element Array{Int64,1}:\n",
       " 18\n",
       " 17\n",
       " 15\n",
       " 15\n",
       " 16\n",
       " 16\n",
       " 16\n",
       " 17\n",
       " 15\n",
       " 15\n",
       " 15\n",
       " 15\n",
       " 15\n",
       "  ⋮\n",
       " 19\n",
       " 18\n",
       " 18\n",
       " 18\n",
       " 19\n",
       " 18\n",
       " 18\n",
       " 20\n",
       " 17\n",
       " 21\n",
       " 18\n",
       " 19"
      ]
     },
     "execution_count": 37,
     "metadata": {},
     "output_type": "execute_result"
    }
   ],
   "source": [
    "prop[:,3] #all rows and 3rd col i.e all val of 3rd col"
   ]
  },
  {
   "cell_type": "code",
   "execution_count": 38,
   "metadata": {
    "scrolled": true
   },
   "outputs": [
    {
     "data": {
      "text/html": [
       "<table class=\"data-frame\"><thead><tr><th></th><th>school</th><th>sex</th><th>age</th></tr><tr><th></th><th>String</th><th>String</th><th>Int64</th></tr></thead><tbody><p>395 rows × 3 columns</p><tr><th>1</th><td>GP</td><td>F</td><td>18</td></tr><tr><th>2</th><td>GP</td><td>F</td><td>17</td></tr><tr><th>3</th><td>GP</td><td>F</td><td>15</td></tr><tr><th>4</th><td>GP</td><td>F</td><td>15</td></tr><tr><th>5</th><td>GP</td><td>F</td><td>16</td></tr><tr><th>6</th><td>GP</td><td>M</td><td>16</td></tr><tr><th>7</th><td>GP</td><td>M</td><td>16</td></tr><tr><th>8</th><td>GP</td><td>F</td><td>17</td></tr><tr><th>9</th><td>GP</td><td>M</td><td>15</td></tr><tr><th>10</th><td>GP</td><td>M</td><td>15</td></tr><tr><th>11</th><td>GP</td><td>F</td><td>15</td></tr><tr><th>12</th><td>GP</td><td>F</td><td>15</td></tr><tr><th>13</th><td>GP</td><td>M</td><td>15</td></tr><tr><th>14</th><td>GP</td><td>M</td><td>15</td></tr><tr><th>15</th><td>GP</td><td>M</td><td>15</td></tr><tr><th>16</th><td>GP</td><td>F</td><td>16</td></tr><tr><th>17</th><td>GP</td><td>F</td><td>16</td></tr><tr><th>18</th><td>GP</td><td>F</td><td>16</td></tr><tr><th>19</th><td>GP</td><td>M</td><td>17</td></tr><tr><th>20</th><td>GP</td><td>M</td><td>16</td></tr><tr><th>21</th><td>GP</td><td>M</td><td>15</td></tr><tr><th>22</th><td>GP</td><td>M</td><td>15</td></tr><tr><th>23</th><td>GP</td><td>M</td><td>16</td></tr><tr><th>24</th><td>GP</td><td>M</td><td>16</td></tr><tr><th>25</th><td>GP</td><td>F</td><td>15</td></tr><tr><th>26</th><td>GP</td><td>F</td><td>16</td></tr><tr><th>27</th><td>GP</td><td>M</td><td>15</td></tr><tr><th>28</th><td>GP</td><td>M</td><td>15</td></tr><tr><th>29</th><td>GP</td><td>M</td><td>16</td></tr><tr><th>30</th><td>GP</td><td>M</td><td>16</td></tr><tr><th>&vellip;</th><td>&vellip;</td><td>&vellip;</td><td>&vellip;</td></tr></tbody></table>"
      ],
      "text/latex": [
       "\\begin{tabular}{r|ccc}\n",
       "\t& school & sex & age\\\\\n",
       "\t\\hline\n",
       "\t& String & String & Int64\\\\\n",
       "\t\\hline\n",
       "\t1 & GP & F & 18 \\\\\n",
       "\t2 & GP & F & 17 \\\\\n",
       "\t3 & GP & F & 15 \\\\\n",
       "\t4 & GP & F & 15 \\\\\n",
       "\t5 & GP & F & 16 \\\\\n",
       "\t6 & GP & M & 16 \\\\\n",
       "\t7 & GP & M & 16 \\\\\n",
       "\t8 & GP & F & 17 \\\\\n",
       "\t9 & GP & M & 15 \\\\\n",
       "\t10 & GP & M & 15 \\\\\n",
       "\t11 & GP & F & 15 \\\\\n",
       "\t12 & GP & F & 15 \\\\\n",
       "\t13 & GP & M & 15 \\\\\n",
       "\t14 & GP & M & 15 \\\\\n",
       "\t15 & GP & M & 15 \\\\\n",
       "\t16 & GP & F & 16 \\\\\n",
       "\t17 & GP & F & 16 \\\\\n",
       "\t18 & GP & F & 16 \\\\\n",
       "\t19 & GP & M & 17 \\\\\n",
       "\t20 & GP & M & 16 \\\\\n",
       "\t21 & GP & M & 15 \\\\\n",
       "\t22 & GP & M & 15 \\\\\n",
       "\t23 & GP & M & 16 \\\\\n",
       "\t24 & GP & M & 16 \\\\\n",
       "\t25 & GP & F & 15 \\\\\n",
       "\t26 & GP & F & 16 \\\\\n",
       "\t27 & GP & M & 15 \\\\\n",
       "\t28 & GP & M & 15 \\\\\n",
       "\t29 & GP & M & 16 \\\\\n",
       "\t30 & GP & M & 16 \\\\\n",
       "\t$\\dots$ & $\\dots$ & $\\dots$ & $\\dots$ \\\\\n",
       "\\end{tabular}\n"
      ],
      "text/plain": [
       "395×3 DataFrame\n",
       "│ Row │ school │ sex    │ age   │\n",
       "│     │ \u001b[90mString\u001b[39m │ \u001b[90mString\u001b[39m │ \u001b[90mInt64\u001b[39m │\n",
       "├─────┼────────┼────────┼───────┤\n",
       "│ 1   │ GP     │ F      │ 18    │\n",
       "│ 2   │ GP     │ F      │ 17    │\n",
       "│ 3   │ GP     │ F      │ 15    │\n",
       "│ 4   │ GP     │ F      │ 15    │\n",
       "│ 5   │ GP     │ F      │ 16    │\n",
       "│ 6   │ GP     │ M      │ 16    │\n",
       "│ 7   │ GP     │ M      │ 16    │\n",
       "│ 8   │ GP     │ F      │ 17    │\n",
       "│ 9   │ GP     │ M      │ 15    │\n",
       "│ 10  │ GP     │ M      │ 15    │\n",
       "⋮\n",
       "│ 385 │ MS     │ M      │ 18    │\n",
       "│ 386 │ MS     │ F      │ 18    │\n",
       "│ 387 │ MS     │ F      │ 18    │\n",
       "│ 388 │ MS     │ F      │ 19    │\n",
       "│ 389 │ MS     │ F      │ 18    │\n",
       "│ 390 │ MS     │ F      │ 18    │\n",
       "│ 391 │ MS     │ M      │ 20    │\n",
       "│ 392 │ MS     │ M      │ 17    │\n",
       "│ 393 │ MS     │ M      │ 21    │\n",
       "│ 394 │ MS     │ M      │ 18    │\n",
       "│ 395 │ MS     │ M      │ 19    │"
      ]
     },
     "execution_count": 38,
     "metadata": {},
     "output_type": "execute_result"
    }
   ],
   "source": [
    "prop[:, [1, 2, 3]]"
   ]
  },
  {
   "cell_type": "code",
   "execution_count": null,
   "metadata": {},
   "outputs": [],
   "source": []
  }
 ],
 "metadata": {
  "kernelspec": {
   "display_name": "Julia 1.4.1",
   "language": "julia",
   "name": "julia-1.4"
  },
  "language_info": {
   "file_extension": ".jl",
   "mimetype": "application/julia",
   "name": "julia",
   "version": "1.4.1"
  }
 },
 "nbformat": 4,
 "nbformat_minor": 2
}

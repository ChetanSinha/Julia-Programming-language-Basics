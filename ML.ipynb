{
 "cells": [
  {
   "cell_type": "markdown",
   "metadata": {},
   "source": [
    "# ML in Julia"
   ]
  },
  {
   "cell_type": "code",
   "execution_count": 1,
   "metadata": {},
   "outputs": [],
   "source": [
    "using Pkg"
   ]
  },
  {
   "cell_type": "code",
   "execution_count": 4,
   "metadata": {
    "scrolled": true
   },
   "outputs": [
    {
     "name": "stderr",
     "output_type": "stream",
     "text": [
      "\u001b[32m\u001b[1m   Updating\u001b[22m\u001b[39m registry at `C:\\Users\\HP\\.julia\\registries\\General`\n"
     ]
    },
    {
     "name": "stdout",
     "output_type": "stream",
     "text": [
      "\u001b[?25l"
     ]
    },
    {
     "name": "stderr",
     "output_type": "stream",
     "text": [
      "\u001b[32m\u001b[1m   Updating\u001b[22m\u001b[39m git-repo `https://github.com/JuliaRegistries/General.git`\n"
     ]
    },
    {
     "name": "stdout",
     "output_type": "stream",
     "text": [
      "\u001b[2K\u001b[36m\u001b[1mFetching:\u001b[22m\u001b[39m [========================================>]  100.0 %[===========================>             ]  65.3 %\u001b[?25h"
     ]
    },
    {
     "name": "stderr",
     "output_type": "stream",
     "text": [
      "\u001b[32m\u001b[1m  Resolving\u001b[22m\u001b[39m package versions...\n",
      "\u001b[32m\u001b[1m  Installed\u001b[22m\u001b[39m OpenBLAS_jll ─ v0.3.9+4\n",
      "\u001b[32m\u001b[1m  Installed\u001b[22m\u001b[39m Documenter ─── v0.24.11\n",
      "\u001b[32m\u001b[1m   Updating\u001b[22m\u001b[39m `C:\\Users\\HP\\.julia\\environments\\v1.4\\Project.toml`\n",
      " \u001b[90m [3646fa90]\u001b[39m\u001b[92m + ScikitLearn v0.5.1\u001b[39m\n",
      "\u001b[32m\u001b[1m   Updating\u001b[22m\u001b[39m `C:\\Users\\HP\\.julia\\environments\\v1.4\\Manifest.toml`\n",
      " \u001b[90m [621f4979]\u001b[39m\u001b[92m + AbstractFFTs v0.5.0\u001b[39m\n",
      " \u001b[90m [7d9fca2a]\u001b[39m\u001b[92m + Arpack v0.4.0\u001b[39m\n",
      " \u001b[90m [68821587]\u001b[39m\u001b[92m + Arpack_jll v3.5.0+3\u001b[39m\n",
      " \u001b[90m [4fba245c]\u001b[39m\u001b[92m + ArrayInterface v2.8.7\u001b[39m\n",
      " \u001b[90m [4c555306]\u001b[39m\u001b[92m + ArrayLayouts v0.2.6\u001b[39m\n",
      " \u001b[90m [aaaa29a8]\u001b[39m\u001b[92m + Clustering v0.14.0\u001b[39m\n",
      " \u001b[90m [944b1d66]\u001b[39m\u001b[92m + CodecZlib v0.7.0\u001b[39m\n",
      " \u001b[90m [bbf7d656]\u001b[39m\u001b[92m + CommonSubexpressions v0.2.0\u001b[39m\n",
      " \u001b[90m [e66e0078]\u001b[39m\u001b[92m + CompilerSupportLibraries_jll v0.3.3+0\u001b[39m\n",
      " \u001b[90m [7806a523]\u001b[39m\u001b[92m + DecisionTree v0.10.1\u001b[39m\n",
      " \u001b[90m [163ba53b]\u001b[39m\u001b[92m + DiffResults v1.0.2\u001b[39m\n",
      " \u001b[90m [b552c78f]\u001b[39m\u001b[92m + DiffRules v1.0.1\u001b[39m\n",
      " \u001b[90m [b4f34e82]\u001b[39m\u001b[92m + Distances v0.8.2\u001b[39m\n",
      " \u001b[90m [31c24e10]\u001b[39m\u001b[92m + Distributions v0.23.2\u001b[39m\n",
      " \u001b[90m [ffbed154]\u001b[39m\u001b[92m + DocStringExtensions v0.8.1\u001b[39m\n",
      " \u001b[90m [e30172f5]\u001b[39m\u001b[92m + Documenter v0.24.11\u001b[39m\n",
      " \u001b[90m [fdbdab4c]\u001b[39m\u001b[92m + ElasticArrays v1.1.0\u001b[39m\n",
      " \u001b[90m [2904ab23]\u001b[39m\u001b[92m + ElasticPDMats v0.2.1\u001b[39m\n",
      " \u001b[90m [e2ba6199]\u001b[39m\u001b[92m + ExprTools v0.1.1\u001b[39m\n",
      " \u001b[90m [8f5d6c58]\u001b[39m\u001b[92m + EzXML v1.1.0\u001b[39m\n",
      " \u001b[90m [442a2c76]\u001b[39m\u001b[92m + FastGaussQuadrature v0.4.2\u001b[39m\n",
      " \u001b[90m [5789e2e9]\u001b[39m\u001b[92m + FileIO v1.3.0\u001b[39m\n",
      " \u001b[90m [1a297f60]\u001b[39m\u001b[92m + FillArrays v0.8.8\u001b[39m\n",
      " \u001b[90m [6a86dc24]\u001b[39m\u001b[92m + FiniteDiff v2.3.1\u001b[39m\n",
      " \u001b[90m [f6369f11]\u001b[39m\u001b[92m + ForwardDiff v0.10.10\u001b[39m\n",
      " \u001b[90m [cc18c42c]\u001b[39m\u001b[92m + GaussianMixtures v0.3.1\u001b[39m\n",
      " \u001b[90m [891a1506]\u001b[39m\u001b[92m + GaussianProcesses v0.12.0\u001b[39m\n",
      " \u001b[90m [7869d1d1]\u001b[39m\u001b[92m + IRTools v0.3.2\u001b[39m\n",
      " \u001b[90m [c8e1da08]\u001b[39m\u001b[92m + IterTools v1.3.0\u001b[39m\n",
      " \u001b[90m [033835bb]\u001b[39m\u001b[92m + JLD2 v0.1.13\u001b[39m\n",
      " \u001b[90m [b964fa9f]\u001b[39m\u001b[92m + LaTeXStrings v1.1.0\u001b[39m\n",
      " \u001b[90m [94ce4f54]\u001b[39m\u001b[92m + Libiconv_jll v1.16.0+2\u001b[39m\n",
      " \u001b[90m [d3d80556]\u001b[39m\u001b[92m + LineSearches v7.0.1\u001b[39m\n",
      " \u001b[90m [78c3b35d]\u001b[39m\u001b[92m + Mocking v0.7.1\u001b[39m\n",
      " \u001b[90m [0db19996]\u001b[39m\u001b[92m + NBInclude v2.2.0\u001b[39m\n",
      " \u001b[90m [d41bc354]\u001b[39m\u001b[92m + NLSolversBase v7.6.1\u001b[39m\n",
      " \u001b[90m [872c559c]\u001b[39m\u001b[92m + NNlib v0.6.6\u001b[39m\n",
      " \u001b[90m [b8a86587]\u001b[39m\u001b[92m + NearestNeighbors v0.4.4\u001b[39m\n",
      " \u001b[90m [4536629a]\u001b[39m\u001b[92m + OpenBLAS_jll v0.3.9+4\u001b[39m\n",
      " \u001b[90m [efe28fd5]\u001b[39m\u001b[92m + OpenSpecFun_jll v0.5.3+3\u001b[39m\n",
      " \u001b[90m [429524aa]\u001b[39m\u001b[92m + Optim v0.20.6\u001b[39m\n",
      " \u001b[90m [90014a1f]\u001b[39m\u001b[92m + PDMats v0.9.12\u001b[39m\n",
      " \u001b[90m [d96e819e]\u001b[39m\u001b[92m + Parameters v0.12.0\u001b[39m\n",
      " \u001b[90m [85a6dd25]\u001b[39m\u001b[92m + PositiveFactorizations v0.2.3\u001b[39m\n",
      " \u001b[90m [92933f4c]\u001b[39m\u001b[92m + ProgressMeter v1.2.0\u001b[39m\n",
      " \u001b[90m [d330b81b]\u001b[39m\u001b[92m + PyPlot v2.9.0\u001b[39m\n",
      " \u001b[90m [1fd47b50]\u001b[39m\u001b[92m + QuadGK v2.3.1\u001b[39m\n",
      " \u001b[90m [df47a6cb]\u001b[39m\u001b[92m + RData v0.6.3\u001b[39m\n",
      " \u001b[90m [ce6b1742]\u001b[39m\u001b[92m + RDatasets v0.6.7\u001b[39m\n",
      " \u001b[90m [79098fc4]\u001b[39m\u001b[92m + Rmath v0.6.1\u001b[39m\n",
      " \u001b[90m [f50d1b31]\u001b[39m\u001b[92m + Rmath_jll v0.2.2+0\u001b[39m\n",
      " \u001b[90m [3646fa90]\u001b[39m\u001b[92m + ScikitLearn v0.5.1\u001b[39m\n",
      " \u001b[90m [6e75b9c4]\u001b[39m\u001b[92m + ScikitLearnBase v0.5.0\u001b[39m\n",
      " \u001b[90m [276daf66]\u001b[39m\u001b[92m + SpecialFunctions v0.10.0\u001b[39m\n",
      " \u001b[90m [4c63d2b9]\u001b[39m\u001b[92m + StatsFuns v0.9.4\u001b[39m\n",
      " \u001b[90m [f269a46b]\u001b[39m\u001b[92m + TimeZones v1.1.1\u001b[39m\n",
      " \u001b[90m [3bb67fe8]\u001b[39m\u001b[92m + TranscodingStreams v0.9.5\u001b[39m\n",
      " \u001b[90m [02c8fc9c]\u001b[39m\u001b[92m + XML2_jll v2.9.9+4\u001b[39m\n",
      " \u001b[90m [e88e6eb3]\u001b[39m\u001b[92m + Zygote v0.4.20\u001b[39m\n",
      " \u001b[90m [700de1a5]\u001b[39m\u001b[92m + ZygoteRules v0.2.0\u001b[39m\n",
      " \u001b[90m [4607b0f0]\u001b[39m\u001b[92m + SuiteSparse \u001b[39m\n"
     ]
    }
   ],
   "source": [
    "Pkg.add(\"ScikitLearn\")"
   ]
  },
  {
   "cell_type": "code",
   "execution_count": 5,
   "metadata": {},
   "outputs": [
    {
     "name": "stderr",
     "output_type": "stream",
     "text": [
      "┌ Info: Precompiling ScikitLearn [3646fa90-6ef7-5e7e-9f22-8aca16db6324]\n",
      "└ @ Base loading.jl:1260\n"
     ]
    }
   ],
   "source": [
    "using ScikitLearn"
   ]
  },
  {
   "cell_type": "code",
   "execution_count": 6,
   "metadata": {},
   "outputs": [],
   "source": [
    "using CSV"
   ]
  },
  {
   "cell_type": "code",
   "execution_count": 7,
   "metadata": {
    "scrolled": true
   },
   "outputs": [
    {
     "data": {
      "text/html": [
       "<table class=\"data-frame\"><thead><tr><th></th><th>school</th><th>sex</th><th>age</th><th>address</th><th>famsize</th><th>Pstatus</th><th>Medu</th><th>Fedu</th><th>Mjob</th><th>Fjob</th></tr><tr><th></th><th>String</th><th>String</th><th>Int64</th><th>String</th><th>String</th><th>String</th><th>Int64</th><th>Int64</th><th>String</th><th>String</th></tr></thead><tbody><p>395 rows × 33 columns (omitted printing of 23 columns)</p><tr><th>1</th><td>GP</td><td>F</td><td>18</td><td>U</td><td>GT3</td><td>A</td><td>4</td><td>4</td><td>at_home</td><td>teacher</td></tr><tr><th>2</th><td>GP</td><td>F</td><td>17</td><td>U</td><td>GT3</td><td>T</td><td>1</td><td>1</td><td>at_home</td><td>other</td></tr><tr><th>3</th><td>GP</td><td>F</td><td>15</td><td>U</td><td>LE3</td><td>T</td><td>1</td><td>1</td><td>at_home</td><td>other</td></tr><tr><th>4</th><td>GP</td><td>F</td><td>15</td><td>U</td><td>GT3</td><td>T</td><td>4</td><td>2</td><td>health</td><td>services</td></tr><tr><th>5</th><td>GP</td><td>F</td><td>16</td><td>U</td><td>GT3</td><td>T</td><td>3</td><td>3</td><td>other</td><td>other</td></tr><tr><th>6</th><td>GP</td><td>M</td><td>16</td><td>U</td><td>LE3</td><td>T</td><td>4</td><td>3</td><td>services</td><td>other</td></tr><tr><th>7</th><td>GP</td><td>M</td><td>16</td><td>U</td><td>LE3</td><td>T</td><td>2</td><td>2</td><td>other</td><td>other</td></tr><tr><th>8</th><td>GP</td><td>F</td><td>17</td><td>U</td><td>GT3</td><td>A</td><td>4</td><td>4</td><td>other</td><td>teacher</td></tr><tr><th>9</th><td>GP</td><td>M</td><td>15</td><td>U</td><td>LE3</td><td>A</td><td>3</td><td>2</td><td>services</td><td>other</td></tr><tr><th>10</th><td>GP</td><td>M</td><td>15</td><td>U</td><td>GT3</td><td>T</td><td>3</td><td>4</td><td>other</td><td>other</td></tr><tr><th>11</th><td>GP</td><td>F</td><td>15</td><td>U</td><td>GT3</td><td>T</td><td>4</td><td>4</td><td>teacher</td><td>health</td></tr><tr><th>12</th><td>GP</td><td>F</td><td>15</td><td>U</td><td>GT3</td><td>T</td><td>2</td><td>1</td><td>services</td><td>other</td></tr><tr><th>13</th><td>GP</td><td>M</td><td>15</td><td>U</td><td>LE3</td><td>T</td><td>4</td><td>4</td><td>health</td><td>services</td></tr><tr><th>14</th><td>GP</td><td>M</td><td>15</td><td>U</td><td>GT3</td><td>T</td><td>4</td><td>3</td><td>teacher</td><td>other</td></tr><tr><th>15</th><td>GP</td><td>M</td><td>15</td><td>U</td><td>GT3</td><td>A</td><td>2</td><td>2</td><td>other</td><td>other</td></tr><tr><th>16</th><td>GP</td><td>F</td><td>16</td><td>U</td><td>GT3</td><td>T</td><td>4</td><td>4</td><td>health</td><td>other</td></tr><tr><th>17</th><td>GP</td><td>F</td><td>16</td><td>U</td><td>GT3</td><td>T</td><td>4</td><td>4</td><td>services</td><td>services</td></tr><tr><th>18</th><td>GP</td><td>F</td><td>16</td><td>U</td><td>GT3</td><td>T</td><td>3</td><td>3</td><td>other</td><td>other</td></tr><tr><th>19</th><td>GP</td><td>M</td><td>17</td><td>U</td><td>GT3</td><td>T</td><td>3</td><td>2</td><td>services</td><td>services</td></tr><tr><th>20</th><td>GP</td><td>M</td><td>16</td><td>U</td><td>LE3</td><td>T</td><td>4</td><td>3</td><td>health</td><td>other</td></tr><tr><th>21</th><td>GP</td><td>M</td><td>15</td><td>U</td><td>GT3</td><td>T</td><td>4</td><td>3</td><td>teacher</td><td>other</td></tr><tr><th>22</th><td>GP</td><td>M</td><td>15</td><td>U</td><td>GT3</td><td>T</td><td>4</td><td>4</td><td>health</td><td>health</td></tr><tr><th>23</th><td>GP</td><td>M</td><td>16</td><td>U</td><td>LE3</td><td>T</td><td>4</td><td>2</td><td>teacher</td><td>other</td></tr><tr><th>24</th><td>GP</td><td>M</td><td>16</td><td>U</td><td>LE3</td><td>T</td><td>2</td><td>2</td><td>other</td><td>other</td></tr><tr><th>25</th><td>GP</td><td>F</td><td>15</td><td>R</td><td>GT3</td><td>T</td><td>2</td><td>4</td><td>services</td><td>health</td></tr><tr><th>26</th><td>GP</td><td>F</td><td>16</td><td>U</td><td>GT3</td><td>T</td><td>2</td><td>2</td><td>services</td><td>services</td></tr><tr><th>27</th><td>GP</td><td>M</td><td>15</td><td>U</td><td>GT3</td><td>T</td><td>2</td><td>2</td><td>other</td><td>other</td></tr><tr><th>28</th><td>GP</td><td>M</td><td>15</td><td>U</td><td>GT3</td><td>T</td><td>4</td><td>2</td><td>health</td><td>services</td></tr><tr><th>29</th><td>GP</td><td>M</td><td>16</td><td>U</td><td>LE3</td><td>A</td><td>3</td><td>4</td><td>services</td><td>other</td></tr><tr><th>30</th><td>GP</td><td>M</td><td>16</td><td>U</td><td>GT3</td><td>T</td><td>4</td><td>4</td><td>teacher</td><td>teacher</td></tr><tr><th>&vellip;</th><td>&vellip;</td><td>&vellip;</td><td>&vellip;</td><td>&vellip;</td><td>&vellip;</td><td>&vellip;</td><td>&vellip;</td><td>&vellip;</td><td>&vellip;</td><td>&vellip;</td></tr></tbody></table>"
      ],
      "text/latex": [
       "\\begin{tabular}{r|ccccccccccc}\n",
       "\t& school & sex & age & address & famsize & Pstatus & Medu & Fedu & Mjob & Fjob & \\\\\n",
       "\t\\hline\n",
       "\t& String & String & Int64 & String & String & String & Int64 & Int64 & String & String & \\\\\n",
       "\t\\hline\n",
       "\t1 & GP & F & 18 & U & GT3 & A & 4 & 4 & at\\_home & teacher & $\\dots$ \\\\\n",
       "\t2 & GP & F & 17 & U & GT3 & T & 1 & 1 & at\\_home & other & $\\dots$ \\\\\n",
       "\t3 & GP & F & 15 & U & LE3 & T & 1 & 1 & at\\_home & other & $\\dots$ \\\\\n",
       "\t4 & GP & F & 15 & U & GT3 & T & 4 & 2 & health & services & $\\dots$ \\\\\n",
       "\t5 & GP & F & 16 & U & GT3 & T & 3 & 3 & other & other & $\\dots$ \\\\\n",
       "\t6 & GP & M & 16 & U & LE3 & T & 4 & 3 & services & other & $\\dots$ \\\\\n",
       "\t7 & GP & M & 16 & U & LE3 & T & 2 & 2 & other & other & $\\dots$ \\\\\n",
       "\t8 & GP & F & 17 & U & GT3 & A & 4 & 4 & other & teacher & $\\dots$ \\\\\n",
       "\t9 & GP & M & 15 & U & LE3 & A & 3 & 2 & services & other & $\\dots$ \\\\\n",
       "\t10 & GP & M & 15 & U & GT3 & T & 3 & 4 & other & other & $\\dots$ \\\\\n",
       "\t11 & GP & F & 15 & U & GT3 & T & 4 & 4 & teacher & health & $\\dots$ \\\\\n",
       "\t12 & GP & F & 15 & U & GT3 & T & 2 & 1 & services & other & $\\dots$ \\\\\n",
       "\t13 & GP & M & 15 & U & LE3 & T & 4 & 4 & health & services & $\\dots$ \\\\\n",
       "\t14 & GP & M & 15 & U & GT3 & T & 4 & 3 & teacher & other & $\\dots$ \\\\\n",
       "\t15 & GP & M & 15 & U & GT3 & A & 2 & 2 & other & other & $\\dots$ \\\\\n",
       "\t16 & GP & F & 16 & U & GT3 & T & 4 & 4 & health & other & $\\dots$ \\\\\n",
       "\t17 & GP & F & 16 & U & GT3 & T & 4 & 4 & services & services & $\\dots$ \\\\\n",
       "\t18 & GP & F & 16 & U & GT3 & T & 3 & 3 & other & other & $\\dots$ \\\\\n",
       "\t19 & GP & M & 17 & U & GT3 & T & 3 & 2 & services & services & $\\dots$ \\\\\n",
       "\t20 & GP & M & 16 & U & LE3 & T & 4 & 3 & health & other & $\\dots$ \\\\\n",
       "\t21 & GP & M & 15 & U & GT3 & T & 4 & 3 & teacher & other & $\\dots$ \\\\\n",
       "\t22 & GP & M & 15 & U & GT3 & T & 4 & 4 & health & health & $\\dots$ \\\\\n",
       "\t23 & GP & M & 16 & U & LE3 & T & 4 & 2 & teacher & other & $\\dots$ \\\\\n",
       "\t24 & GP & M & 16 & U & LE3 & T & 2 & 2 & other & other & $\\dots$ \\\\\n",
       "\t25 & GP & F & 15 & R & GT3 & T & 2 & 4 & services & health & $\\dots$ \\\\\n",
       "\t26 & GP & F & 16 & U & GT3 & T & 2 & 2 & services & services & $\\dots$ \\\\\n",
       "\t27 & GP & M & 15 & U & GT3 & T & 2 & 2 & other & other & $\\dots$ \\\\\n",
       "\t28 & GP & M & 15 & U & GT3 & T & 4 & 2 & health & services & $\\dots$ \\\\\n",
       "\t29 & GP & M & 16 & U & LE3 & A & 3 & 4 & services & other & $\\dots$ \\\\\n",
       "\t30 & GP & M & 16 & U & GT3 & T & 4 & 4 & teacher & teacher & $\\dots$ \\\\\n",
       "\t$\\dots$ & $\\dots$ & $\\dots$ & $\\dots$ & $\\dots$ & $\\dots$ & $\\dots$ & $\\dots$ & $\\dots$ & $\\dots$ & $\\dots$ &  \\\\\n",
       "\\end{tabular}\n"
      ],
      "text/plain": [
       "395×33 DataFrames.DataFrame. Omitted printing of 25 columns\n",
       "│ Row │ school │ sex    │ age   │ address │ famsize │ Pstatus │ Medu  │ Fedu  │\n",
       "│     │ \u001b[90mString\u001b[39m │ \u001b[90mString\u001b[39m │ \u001b[90mInt64\u001b[39m │ \u001b[90mString\u001b[39m  │ \u001b[90mString\u001b[39m  │ \u001b[90mString\u001b[39m  │ \u001b[90mInt64\u001b[39m │ \u001b[90mInt64\u001b[39m │\n",
       "├─────┼────────┼────────┼───────┼─────────┼─────────┼─────────┼───────┼───────┤\n",
       "│ 1   │ GP     │ F      │ 18    │ U       │ GT3     │ A       │ 4     │ 4     │\n",
       "│ 2   │ GP     │ F      │ 17    │ U       │ GT3     │ T       │ 1     │ 1     │\n",
       "│ 3   │ GP     │ F      │ 15    │ U       │ LE3     │ T       │ 1     │ 1     │\n",
       "│ 4   │ GP     │ F      │ 15    │ U       │ GT3     │ T       │ 4     │ 2     │\n",
       "│ 5   │ GP     │ F      │ 16    │ U       │ GT3     │ T       │ 3     │ 3     │\n",
       "│ 6   │ GP     │ M      │ 16    │ U       │ LE3     │ T       │ 4     │ 3     │\n",
       "│ 7   │ GP     │ M      │ 16    │ U       │ LE3     │ T       │ 2     │ 2     │\n",
       "│ 8   │ GP     │ F      │ 17    │ U       │ GT3     │ A       │ 4     │ 4     │\n",
       "│ 9   │ GP     │ M      │ 15    │ U       │ LE3     │ A       │ 3     │ 2     │\n",
       "│ 10  │ GP     │ M      │ 15    │ U       │ GT3     │ T       │ 3     │ 4     │\n",
       "⋮\n",
       "│ 385 │ MS     │ M      │ 18    │ R       │ GT3     │ T       │ 4     │ 2     │\n",
       "│ 386 │ MS     │ F      │ 18    │ R       │ GT3     │ T       │ 2     │ 2     │\n",
       "│ 387 │ MS     │ F      │ 18    │ R       │ GT3     │ T       │ 4     │ 4     │\n",
       "│ 388 │ MS     │ F      │ 19    │ R       │ GT3     │ T       │ 2     │ 3     │\n",
       "│ 389 │ MS     │ F      │ 18    │ U       │ LE3     │ T       │ 3     │ 1     │\n",
       "│ 390 │ MS     │ F      │ 18    │ U       │ GT3     │ T       │ 1     │ 1     │\n",
       "│ 391 │ MS     │ M      │ 20    │ U       │ LE3     │ A       │ 2     │ 2     │\n",
       "│ 392 │ MS     │ M      │ 17    │ U       │ LE3     │ T       │ 3     │ 1     │\n",
       "│ 393 │ MS     │ M      │ 21    │ R       │ GT3     │ T       │ 1     │ 1     │\n",
       "│ 394 │ MS     │ M      │ 18    │ R       │ LE3     │ T       │ 3     │ 2     │\n",
       "│ 395 │ MS     │ M      │ 19    │ U       │ LE3     │ T       │ 1     │ 1     │"
      ]
     },
     "execution_count": 7,
     "metadata": {},
     "output_type": "execute_result"
    }
   ],
   "source": [
    "stu = CSV.read(\"student-mat.csv\", normalizenames = true)"
   ]
  },
  {
   "cell_type": "code",
   "execution_count": 9,
   "metadata": {},
   "outputs": [
    {
     "data": {
      "text/plain": [
       "395×4 Array{Any,2}:\n",
       " \"GP\"  \"F\"  18  \"U\"\n",
       " \"GP\"  \"F\"  17  \"U\"\n",
       " \"GP\"  \"F\"  15  \"U\"\n",
       " \"GP\"  \"F\"  15  \"U\"\n",
       " \"GP\"  \"F\"  16  \"U\"\n",
       " \"GP\"  \"M\"  16  \"U\"\n",
       " \"GP\"  \"M\"  16  \"U\"\n",
       " \"GP\"  \"F\"  17  \"U\"\n",
       " \"GP\"  \"M\"  15  \"U\"\n",
       " \"GP\"  \"M\"  15  \"U\"\n",
       " \"GP\"  \"F\"  15  \"U\"\n",
       " \"GP\"  \"F\"  15  \"U\"\n",
       " \"GP\"  \"M\"  15  \"U\"\n",
       " ⋮              \n",
       " \"MS\"  \"M\"  19  \"R\"\n",
       " \"MS\"  \"M\"  18  \"R\"\n",
       " \"MS\"  \"F\"  18  \"R\"\n",
       " \"MS\"  \"F\"  18  \"R\"\n",
       " \"MS\"  \"F\"  19  \"R\"\n",
       " \"MS\"  \"F\"  18  \"U\"\n",
       " \"MS\"  \"F\"  18  \"U\"\n",
       " \"MS\"  \"M\"  20  \"U\"\n",
       " \"MS\"  \"M\"  17  \"U\"\n",
       " \"MS\"  \"M\"  21  \"R\"\n",
       " \"MS\"  \"M\"  18  \"R\"\n",
       " \"MS\"  \"M\"  19  \"U\""
      ]
     },
     "execution_count": 9,
     "metadata": {},
     "output_type": "execute_result"
    }
   ],
   "source": [
    "stu_x = convert(Array, stu[:, [1, 2, 3, 4]])"
   ]
  },
  {
   "cell_type": "code",
   "execution_count": 10,
   "metadata": {},
   "outputs": [
    {
     "name": "stderr",
     "output_type": "stream",
     "text": [
      "┌ Info: Installing sklearn via the Conda scikit-learn package...\n",
      "└ @ PyCall C:\\Users\\HP\\.julia\\packages\\PyCall\\zqDXB\\src\\PyCall.jl:697\n",
      "┌ Info: Running `conda install -y scikit-learn` in root environment\n",
      "└ @ Conda C:\\Users\\HP\\.julia\\packages\\Conda\\3rPhK\\src\\Conda.jl:113\n"
     ]
    },
    {
     "name": "stdout",
     "output_type": "stream",
     "text": [
      "Collecting package metadata (current_repodata.json): ...working... done\n",
      "Solving environment: ...working... done\n",
      "\n",
      "## Package Plan ##\n",
      "\n",
      "  environment location: C:\\Users\\HP\\.julia\\conda\\3\n",
      "\n",
      "  added / updated specs:\n",
      "    - scikit-learn\n",
      "\n",
      "\n",
      "The following packages will be downloaded:\n",
      "\n",
      "    package                    |            build\n",
      "    ---------------------------|-----------------\n",
      "    joblib-0.14.1              |             py_0         201 KB\n",
      "    scikit-learn-0.22.1        |   py37h6288b17_0         4.7 MB\n",
      "    scipy-1.4.1                |   py37h9439919_0        11.9 MB\n",
      "    ------------------------------------------------------------\n",
      "                                           Total:        16.7 MB\n",
      "\n",
      "The following NEW packages will be INSTALLED:\n",
      "\n",
      "  joblib             pkgs/main/noarch::joblib-0.14.1-py_0\n",
      "  scikit-learn       pkgs/main/win-64::scikit-learn-0.22.1-py37h6288b17_0\n",
      "  scipy              pkgs/main/win-64::scipy-1.4.1-py37h9439919_0\n",
      "\n",
      "\n",
      "\n",
      "Downloading and Extracting Packages\n",
      "joblib-0.14.1        | 201 KB    | ########## | 100% \n",
      "scikit-learn-0.22.1  | 4.7 MB    | ########## | 100% \n",
      "scipy-1.4.1          | 11.9 MB   | ########## | 100% \n",
      "Preparing transaction: ...working... done\n",
      "Verifying transaction: ...working... done\n",
      "Executing transaction: ...working... done\n"
     ]
    },
    {
     "data": {
      "text/plain": [
       "PyObject <class 'sklearn.linear_model._logistic.LogisticRegression'>"
      ]
     },
     "execution_count": 10,
     "metadata": {},
     "output_type": "execute_result"
    }
   ],
   "source": [
    "@sk_import linear_model: LogisticRegression"
   ]
  },
  {
   "cell_type": "code",
   "execution_count": 18,
   "metadata": {},
   "outputs": [],
   "source": [
    "# x_train, x_test, y_train, y_test = train_test_split(x_Data, y_Dat)"
   ]
  },
  {
   "cell_type": "code",
   "execution_count": 11,
   "metadata": {},
   "outputs": [
    {
     "data": {
      "text/plain": [
       "PyObject LogisticRegression(C=1.0, class_weight=None, dual=False, fit_intercept=True,\n",
       "                   intercept_scaling=1, l1_ratio=None, max_iter=100,\n",
       "                   multi_class='auto', n_jobs=None, penalty='l2',\n",
       "                   random_state=None, solver='lbfgs', tol=0.0001, verbose=0,\n",
       "                   warm_start=False)"
      ]
     },
     "execution_count": 11,
     "metadata": {},
     "output_type": "execute_result"
    }
   ],
   "source": [
    "log_Reg_model = LogisticRegression()"
   ]
  },
  {
   "cell_type": "code",
   "execution_count": 12,
   "metadata": {},
   "outputs": [],
   "source": [
    "# fit!(log_Reg_model, x_train, y_train)\n",
    "# predictions = predict(log_Reg_model, x_test)\n"
   ]
  },
  {
   "cell_type": "code",
   "execution_count": 13,
   "metadata": {},
   "outputs": [
    {
     "data": {
      "text/plain": [
       "PyObject <function accuracy_score at 0x000000004F1CF3A8>"
      ]
     },
     "execution_count": 13,
     "metadata": {},
     "output_type": "execute_result"
    }
   ],
   "source": [
    "@sk_import metrics: accuracy_score"
   ]
  },
  {
   "cell_type": "code",
   "execution_count": 14,
   "metadata": {},
   "outputs": [],
   "source": [
    "# accuracy = accuracy_score(predictions , y_test)"
   ]
  },
  {
   "cell_type": "code",
   "execution_count": 15,
   "metadata": {},
   "outputs": [
    {
     "data": {
      "text/plain": [
       "PyObject <class 'sklearn.tree._classes.DecisionTreeClassifier'>"
      ]
     },
     "execution_count": 15,
     "metadata": {},
     "output_type": "execute_result"
    }
   ],
   "source": [
    "@sk_import tree: DecisionTreeClassifier"
   ]
  },
  {
   "cell_type": "code",
   "execution_count": 16,
   "metadata": {},
   "outputs": [
    {
     "data": {
      "text/plain": [
       "PyObject <class 'sklearn.ensemble._forest.RandomForestClassifier'>"
      ]
     },
     "execution_count": 16,
     "metadata": {},
     "output_type": "execute_result"
    }
   ],
   "source": [
    "@sk_import ensemble: RandomForestClassifier"
   ]
  },
  {
   "cell_type": "code",
   "execution_count": 17,
   "metadata": {},
   "outputs": [
    {
     "name": "stderr",
     "output_type": "stream",
     "text": [
      "┌ Warning: Module model_selection has been ported to Julia - try `import ScikitLearn: CrossValidation` instead\n",
      "└ @ ScikitLearn.Skcore C:\\Users\\HP\\.julia\\packages\\ScikitLearn\\bo2Pt\\src\\Skcore.jl:140\n"
     ]
    },
    {
     "data": {
      "text/plain": [
       "PyObject <function train_test_split at 0x000000004F1A6E58>"
      ]
     },
     "execution_count": 17,
     "metadata": {},
     "output_type": "execute_result"
    }
   ],
   "source": [
    "@sk_import model_selection: train_test_split"
   ]
  },
  {
   "cell_type": "code",
   "execution_count": null,
   "metadata": {},
   "outputs": [],
   "source": [
    "# ...."
   ]
  }
 ],
 "metadata": {
  "kernelspec": {
   "display_name": "Julia 1.4.1",
   "language": "julia",
   "name": "julia-1.4"
  },
  "language_info": {
   "file_extension": ".jl",
   "mimetype": "application/julia",
   "name": "julia",
   "version": "1.4.1"
  }
 },
 "nbformat": 4,
 "nbformat_minor": 2
}

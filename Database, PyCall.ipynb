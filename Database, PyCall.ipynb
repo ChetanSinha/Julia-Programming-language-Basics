{
 "cells": [
  {
   "cell_type": "markdown",
   "metadata": {},
   "source": [
    "# Databases: Sql Lite"
   ]
  },
  {
   "cell_type": "code",
   "execution_count": 1,
   "metadata": {},
   "outputs": [],
   "source": [
    "using Pkg"
   ]
  },
  {
   "cell_type": "code",
   "execution_count": 2,
   "metadata": {},
   "outputs": [
    {
     "name": "stderr",
     "output_type": "stream",
     "text": [
      "\u001b[32m\u001b[1m   Updating\u001b[22m\u001b[39m registry at `C:\\Users\\HP\\.julia\\registries\\General`\n",
      "\u001b[32m\u001b[1m   Updating\u001b[22m\u001b[39m git-repo `https://github.com/JuliaRegistries/General.git`\n"
     ]
    },
    {
     "name": "stdout",
     "output_type": "stream",
     "text": [
      "\u001b[2K\u001b[36m\u001b[1mFetching:\u001b[22m\u001b[39m [========================================>]  100.0 %.0 %\u001b[36m\u001b[1mFetching:\u001b[22m\u001b[39m [========>                                ]  19.1 %]  85.2 %\u001b[?25h"
     ]
    },
    {
     "name": "stderr",
     "output_type": "stream",
     "text": [
      "\u001b[32m\u001b[1m  Resolving\u001b[22m\u001b[39m package versions...\n",
      "\u001b[32m\u001b[1m  Installed\u001b[22m\u001b[39m SQLite_jll ───── v3.31.1+0\n",
      "\u001b[32m\u001b[1m  Installed\u001b[22m\u001b[39m DBInterface ──── v2.1.0\n",
      "\u001b[32m\u001b[1m  Installed\u001b[22m\u001b[39m SQLite ───────── v1.0.3\n",
      "\u001b[32m\u001b[1m  Installed\u001b[22m\u001b[39m BinaryProvider ─ v0.5.9\n",
      "\u001b[32m\u001b[1m   Updating\u001b[22m\u001b[39m `C:\\Users\\HP\\.julia\\environments\\v1.4\\Project.toml`\n",
      " \u001b[90m [0aa819cd]\u001b[39m\u001b[92m + SQLite v1.0.3\u001b[39m\n",
      "\u001b[32m\u001b[1m   Updating\u001b[22m\u001b[39m `C:\\Users\\HP\\.julia\\environments\\v1.4\\Manifest.toml`\n",
      " \u001b[90m [b99e7846]\u001b[39m\u001b[92m + BinaryProvider v0.5.9\u001b[39m\n",
      " \u001b[90m [a10d1c49]\u001b[39m\u001b[92m + DBInterface v2.1.0\u001b[39m\n",
      " \u001b[90m [0aa819cd]\u001b[39m\u001b[92m + SQLite v1.0.3\u001b[39m\n",
      " \u001b[90m [76ed43ae]\u001b[39m\u001b[92m + SQLite_jll v3.31.1+0\u001b[39m\n",
      "\u001b[32m\u001b[1m   Building\u001b[22m\u001b[39m SQLite → `C:\\Users\\HP\\.julia\\packages\\SQLite\\KwDwo\\deps\\build.log`\n"
     ]
    }
   ],
   "source": [
    "Pkg.add(\"SQLite\")"
   ]
  },
  {
   "cell_type": "code",
   "execution_count": 3,
   "metadata": {},
   "outputs": [
    {
     "name": "stderr",
     "output_type": "stream",
     "text": [
      "┌ Info: Precompiling SQLite [0aa819cd-b072-5ff4-a722-6bc24af294d9]\n",
      "└ @ Base loading.jl:1260\n"
     ]
    }
   ],
   "source": [
    "using SQLite"
   ]
  },
  {
   "cell_type": "raw",
   "metadata": {},
   "source": [
    "DDL - Create, Alter and Drop - SQLite.DB\n",
    "DML - Insert, Update and Delete - SQLite.execute\n",
    "DQl - Select - SQLite.Query"
   ]
  },
  {
   "cell_type": "code",
   "execution_count": 32,
   "metadata": {},
   "outputs": [],
   "source": [
    "using DataFrames"
   ]
  },
  {
   "cell_type": "code",
   "execution_count": 4,
   "metadata": {},
   "outputs": [
    {
     "data": {
      "text/plain": [
       "SQLite.DB(\"Movies\")"
      ]
     },
     "execution_count": 4,
     "metadata": {},
     "output_type": "execute_result"
    }
   ],
   "source": [
    "db = SQLite.DB(\"Movies\")"
   ]
  },
  {
   "cell_type": "code",
   "execution_count": 30,
   "metadata": {},
   "outputs": [
    {
     "data": {
      "text/plain": [
       "101"
      ]
     },
     "execution_count": 30,
     "metadata": {},
     "output_type": "execute_result"
    }
   ],
   "source": [
    "\n",
    "SQLite.execute(db, \"CREATE TABLE IF NOT EXISTS movies(movie_id REAL, movie_name TEXT)\")\n",
    "# after \"using DataFrame\" we can also use\n",
    "# DBInterface.execute(db, \"....\")"
   ]
  },
  {
   "cell_type": "code",
   "execution_count": 31,
   "metadata": {},
   "outputs": [
    {
     "data": {
      "text/html": [
       "<table class=\"data-frame\"><thead><tr><th></th><th>name</th></tr><tr><th></th><th>String</th></tr></thead><tbody><p>1 rows × 1 columns</p><tr><th>1</th><td>movies</td></tr></tbody></table>"
      ],
      "text/latex": [
       "\\begin{tabular}{r|c}\n",
       "\t& name\\\\\n",
       "\t\\hline\n",
       "\t& String\\\\\n",
       "\t\\hline\n",
       "\t1 & movies \\\\\n",
       "\\end{tabular}\n"
      ],
      "text/plain": [
       "1×1 DataFrame\n",
       "│ Row │ name   │\n",
       "│     │ \u001b[90mString\u001b[39m │\n",
       "├─────┼────────┤\n",
       "│ 1   │ movies │"
      ]
     },
     "execution_count": 31,
     "metadata": {},
     "output_type": "execute_result"
    }
   ],
   "source": [
    "# prints in the form of dataframe\n",
    "SQLite.tables(db) |> DataFrame"
   ]
  },
  {
   "cell_type": "code",
   "execution_count": 8,
   "metadata": {},
   "outputs": [
    {
     "data": {
      "text/plain": [
       "101"
      ]
     },
     "execution_count": 8,
     "metadata": {},
     "output_type": "execute_result"
    }
   ],
   "source": [
    "SQLite.execute(db, \"INSERT INTO movies VALUES(1, 'Avengers')\")"
   ]
  },
  {
   "cell_type": "code",
   "execution_count": 29,
   "metadata": {},
   "outputs": [
    {
     "data": {
      "text/html": [
       "<table class=\"data-frame\"><thead><tr><th></th><th>movie_id</th><th>movie_name</th></tr><tr><th></th><th>Float64</th><th>String</th></tr></thead><tbody><p>1 rows × 2 columns</p><tr><th>1</th><td>1.0</td><td>Avengers</td></tr></tbody></table>"
      ],
      "text/latex": [
       "\\begin{tabular}{r|cc}\n",
       "\t& movie\\_id & movie\\_name\\\\\n",
       "\t\\hline\n",
       "\t& Float64 & String\\\\\n",
       "\t\\hline\n",
       "\t1 & 1.0 & Avengers \\\\\n",
       "\\end{tabular}\n"
      ],
      "text/plain": [
       "1×2 DataFrame\n",
       "│ Row │ movie_id │ movie_name │\n",
       "│     │ \u001b[90mFloat64\u001b[39m  │ \u001b[90mString\u001b[39m     │\n",
       "├─────┼──────────┼────────────┤\n",
       "│ 1   │ 1.0      │ Avengers   │"
      ]
     },
     "execution_count": 29,
     "metadata": {},
     "output_type": "execute_result"
    }
   ],
   "source": [
    "DBInterface.execute(db, \"SELECT * FROM movies\") |> DataFrame"
   ]
  },
  {
   "cell_type": "code",
   "execution_count": 36,
   "metadata": {},
   "outputs": [
    {
     "data": {
      "text/html": [
       "<table class=\"data-frame\"><thead><tr><th></th><th>movie_id</th><th>movie_name</th></tr><tr><th></th><th>Float64</th><th>String</th></tr></thead><tbody><p>1 rows × 2 columns</p><tr><th>1</th><td>1.0</td><td>Avengers</td></tr></tbody></table>"
      ],
      "text/latex": [
       "\\begin{tabular}{r|cc}\n",
       "\t& movie\\_id & movie\\_name\\\\\n",
       "\t\\hline\n",
       "\t& Float64 & String\\\\\n",
       "\t\\hline\n",
       "\t1 & 1.0 & Avengers \\\\\n",
       "\\end{tabular}\n"
      ],
      "text/plain": [
       "1×2 DataFrame\n",
       "│ Row │ movie_id │ movie_name │\n",
       "│     │ \u001b[90mFloat64\u001b[39m  │ \u001b[90mString\u001b[39m     │\n",
       "├─────┼──────────┼────────────┤\n",
       "│ 1   │ 1.0      │ Avengers   │"
      ]
     },
     "execution_count": 36,
     "metadata": {},
     "output_type": "execute_result"
    }
   ],
   "source": [
    "# OR\n",
    "DataFrame(DBInterface.execute(db, \"SELECT * FROM movies\"))"
   ]
  },
  {
   "cell_type": "code",
   "execution_count": 34,
   "metadata": {},
   "outputs": [],
   "source": [
    "# DataFrame(SQLite.Query(db, \"SELECT * FROM movies\"))\n",
    "# not working ...."
   ]
  },
  {
   "cell_type": "code",
   "execution_count": 40,
   "metadata": {},
   "outputs": [
    {
     "data": {
      "text/html": [
       "<table class=\"data-frame\"><thead><tr><th></th><th>cid</th><th>name</th><th>type</th><th>notnull</th><th>dflt_value</th><th>pk</th></tr><tr><th></th><th>Int64</th><th>String</th><th>String</th><th>Int64</th><th>Missing</th><th>Int64</th></tr></thead><tbody><p>2 rows × 6 columns</p><tr><th>1</th><td>0</td><td>movie_id</td><td>REAL</td><td>0</td><td>missing</td><td>0</td></tr><tr><th>2</th><td>1</td><td>movie_name</td><td>TEXT</td><td>0</td><td>missing</td><td>0</td></tr></tbody></table>"
      ],
      "text/latex": [
       "\\begin{tabular}{r|cccccc}\n",
       "\t& cid & name & type & notnull & dflt\\_value & pk\\\\\n",
       "\t\\hline\n",
       "\t& Int64 & String & String & Int64 & Missing & Int64\\\\\n",
       "\t\\hline\n",
       "\t1 & 0 & movie\\_id & REAL & 0 &  & 0 \\\\\n",
       "\t2 & 1 & movie\\_name & TEXT & 0 &  & 0 \\\\\n",
       "\\end{tabular}\n"
      ],
      "text/plain": [
       "2×6 DataFrame\n",
       "│ Row │ cid   │ name       │ type   │ notnull │ dflt_value │ pk    │\n",
       "│     │ \u001b[90mInt64\u001b[39m │ \u001b[90mString\u001b[39m     │ \u001b[90mString\u001b[39m │ \u001b[90mInt64\u001b[39m   │ \u001b[90mMissing\u001b[39m    │ \u001b[90mInt64\u001b[39m │\n",
       "├─────┼───────┼────────────┼────────┼─────────┼────────────┼───────┤\n",
       "│ 1   │ 0     │ movie_id   │ REAL   │ 0       │ \u001b[90mmissing\u001b[39m    │ 0     │\n",
       "│ 2   │ 1     │ movie_name │ TEXT   │ 0       │ \u001b[90mmissing\u001b[39m    │ 0     │"
      ]
     },
     "execution_count": 40,
     "metadata": {},
     "output_type": "execute_result"
    }
   ],
   "source": [
    "# column description\n",
    "SQLite.columns(db, \"movies\") |> DataFrame"
   ]
  },
  {
   "cell_type": "raw",
   "metadata": {},
   "source": [
    "IMPORTING WORKING W/ DATABASES\n",
    "\n",
    "db_name = SQLite.DB(\"database_name.db\")\n",
    "SQLite.tables(db_name)\n",
    "DBInterface.execute(db_name, \"....\") |> DataFrame"
   ]
  },
  {
   "cell_type": "code",
   "execution_count": 43,
   "metadata": {},
   "outputs": [],
   "source": [
    "# where condition\n",
    "# Group By\n",
    "# Order by\n",
    "# having\n",
    "# Join\n",
    "# etc...."
   ]
  },
  {
   "cell_type": "markdown",
   "metadata": {},
   "source": [
    "# Working w/ Python Packages"
   ]
  },
  {
   "cell_type": "code",
   "execution_count": 44,
   "metadata": {},
   "outputs": [],
   "source": [
    "using Pkg"
   ]
  },
  {
   "cell_type": "raw",
   "metadata": {},
   "source": [
    "to make the GR up-to-date\n",
    "basically GR is for visualization i.e for Plots\n",
    "\n",
    "ENV[\"GRDIR\"] = \"\"\n",
    "Pkg.build(\"GR\")"
   ]
  },
  {
   "cell_type": "raw",
   "metadata": {},
   "source": [
    "build the PyCall properly if there is error in precompilation using:\n",
    "\n",
    "Pkg.build(\"PyCall\")"
   ]
  },
  {
   "cell_type": "code",
   "execution_count": 9,
   "metadata": {},
   "outputs": [
    {
     "name": "stderr",
     "output_type": "stream",
     "text": [
      "┌ Info: Precompiling PyCall [438e738f-606a-5dbb-bf0a-cddfbfd45ab0]\n",
      "└ @ Base loading.jl:1260\n"
     ]
    }
   ],
   "source": [
    "using PyCall"
   ]
  },
  {
   "cell_type": "code",
   "execution_count": 10,
   "metadata": {},
   "outputs": [
    {
     "data": {
      "text/plain": [
       "PyObject <module 'numpy' from 'C:\\\\Users\\\\HP\\\\.julia\\\\conda\\\\3\\\\lib\\\\site-packages\\\\numpy\\\\__init__.py'>"
      ]
     },
     "execution_count": 10,
     "metadata": {},
     "output_type": "execute_result"
    }
   ],
   "source": [
    "np = pyimport(\"numpy\")"
   ]
  },
  {
   "cell_type": "code",
   "execution_count": 11,
   "metadata": {},
   "outputs": [
    {
     "data": {
      "text/plain": [
       "5-element Array{Int64,1}:\n",
       " 1\n",
       " 2\n",
       " 3\n",
       " 4\n",
       " 5"
      ]
     },
     "execution_count": 11,
     "metadata": {},
     "output_type": "execute_result"
    }
   ],
   "source": [
    "a1 = np.array([1,2,3,4,5])"
   ]
  },
  {
   "cell_type": "code",
   "execution_count": 12,
   "metadata": {},
   "outputs": [
    {
     "data": {
      "text/plain": [
       "3.0"
      ]
     },
     "execution_count": 12,
     "metadata": {},
     "output_type": "execute_result"
    }
   ],
   "source": [
    "np.mean(a1)"
   ]
  },
  {
   "cell_type": "code",
   "execution_count": 13,
   "metadata": {},
   "outputs": [
    {
     "data": {
      "text/plain": [
       "PyObject <module 'math' (built-in)>"
      ]
     },
     "execution_count": 13,
     "metadata": {},
     "output_type": "execute_result"
    }
   ],
   "source": [
    "math = pyimport(\"math\")"
   ]
  },
  {
   "cell_type": "code",
   "execution_count": 14,
   "metadata": {},
   "outputs": [
    {
     "data": {
      "text/plain": [
       "-0.4161468365471424"
      ]
     },
     "execution_count": 14,
     "metadata": {},
     "output_type": "execute_result"
    }
   ],
   "source": [
    "cos(2)"
   ]
  },
  {
   "cell_type": "code",
   "execution_count": null,
   "metadata": {},
   "outputs": [],
   "source": []
  }
 ],
 "metadata": {
  "kernelspec": {
   "display_name": "Julia 1.4.1",
   "language": "julia",
   "name": "julia-1.4"
  },
  "language_info": {
   "file_extension": ".jl",
   "mimetype": "application/julia",
   "name": "julia",
   "version": "1.4.1"
  }
 },
 "nbformat": 4,
 "nbformat_minor": 2
}
